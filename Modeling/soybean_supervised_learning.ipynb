{
 "cells": [
  {
   "cell_type": "markdown",
   "id": "a1a6eb75-3ddd-4c1d-8f75-82f5acf1a1f3",
   "metadata": {},
   "source": [
    "# Big Data Application: Modeling for Crop Yield Estimation"
   ]
  },
  {
   "cell_type": "markdown",
   "id": "ca4bab1c-6ee6-47ae-8352-4ab5649690e8",
   "metadata": {},
   "source": [
    "This jupyter notebook is addressed for creating model that can estimate crop yield in North Dakota, United States. The detail workflow of this project can be seen in [here](https://drive.google.com/file/d/1u3jHTnLqoxMca7SRzgnvGjP-iBvfTnls/view?usp=sharing)."
   ]
  },
  {
   "cell_type": "markdown",
   "id": "2296c5b4-0995-43c7-8d70-ab3b37f67d98",
   "metadata": {},
   "source": [
    "## 0. Install & Load Packages"
   ]
  },
  {
   "cell_type": "code",
   "execution_count": 78,
   "id": "0ed9a483-7e87-4d96-97d8-dce0579d6b48",
   "metadata": {},
   "outputs": [
    {
     "name": "stdout",
     "output_type": "stream",
     "text": [
      "Requirement already satisfied: tensorflow in /opt/conda/lib/python3.11/site-packages (2.16.1)\n",
      "Requirement already satisfied: absl-py>=1.0.0 in /opt/conda/lib/python3.11/site-packages (from tensorflow) (2.1.0)\n",
      "Requirement already satisfied: astunparse>=1.6.0 in /opt/conda/lib/python3.11/site-packages (from tensorflow) (1.6.3)\n",
      "Requirement already satisfied: flatbuffers>=23.5.26 in /opt/conda/lib/python3.11/site-packages (from tensorflow) (24.3.25)\n",
      "Requirement already satisfied: gast!=0.5.0,!=0.5.1,!=0.5.2,>=0.2.1 in /opt/conda/lib/python3.11/site-packages (from tensorflow) (0.5.4)\n",
      "Requirement already satisfied: google-pasta>=0.1.1 in /opt/conda/lib/python3.11/site-packages (from tensorflow) (0.2.0)\n",
      "Requirement already satisfied: h5py>=3.10.0 in /opt/conda/lib/python3.11/site-packages (from tensorflow) (3.10.0)\n",
      "Requirement already satisfied: libclang>=13.0.0 in /opt/conda/lib/python3.11/site-packages (from tensorflow) (18.1.1)\n",
      "Requirement already satisfied: ml-dtypes~=0.3.1 in /opt/conda/lib/python3.11/site-packages (from tensorflow) (0.3.2)\n",
      "Requirement already satisfied: opt-einsum>=2.3.2 in /opt/conda/lib/python3.11/site-packages (from tensorflow) (3.3.0)\n",
      "Requirement already satisfied: packaging in /opt/conda/lib/python3.11/site-packages (from tensorflow) (23.1)\n",
      "Requirement already satisfied: protobuf!=4.21.0,!=4.21.1,!=4.21.2,!=4.21.3,!=4.21.4,!=4.21.5,<5.0.0dev,>=3.20.3 in /opt/conda/lib/python3.11/site-packages (from tensorflow) (4.23.3)\n",
      "Requirement already satisfied: requests<3,>=2.21.0 in /opt/conda/lib/python3.11/site-packages (from tensorflow) (2.31.0)\n",
      "Requirement already satisfied: setuptools in /opt/conda/lib/python3.11/site-packages (from tensorflow) (68.1.2)\n",
      "Requirement already satisfied: six>=1.12.0 in /opt/conda/lib/python3.11/site-packages (from tensorflow) (1.16.0)\n",
      "Requirement already satisfied: termcolor>=1.1.0 in /opt/conda/lib/python3.11/site-packages (from tensorflow) (2.4.0)\n",
      "Requirement already satisfied: typing-extensions>=3.6.6 in /opt/conda/lib/python3.11/site-packages (from tensorflow) (4.7.1)\n",
      "Requirement already satisfied: wrapt>=1.11.0 in /opt/conda/lib/python3.11/site-packages (from tensorflow) (1.15.0)\n",
      "Requirement already satisfied: grpcio<2.0,>=1.24.3 in /opt/conda/lib/python3.11/site-packages (from tensorflow) (1.62.1)\n",
      "Requirement already satisfied: tensorboard<2.17,>=2.16 in /opt/conda/lib/python3.11/site-packages (from tensorflow) (2.16.2)\n",
      "Requirement already satisfied: keras>=3.0.0 in /opt/conda/lib/python3.11/site-packages (from tensorflow) (3.1.1)\n",
      "Requirement already satisfied: tensorflow-io-gcs-filesystem>=0.23.1 in /opt/conda/lib/python3.11/site-packages (from tensorflow) (0.36.0)\n",
      "Requirement already satisfied: numpy<2.0.0,>=1.23.5 in /opt/conda/lib/python3.11/site-packages (from tensorflow) (1.24.4)\n",
      "Requirement already satisfied: wheel<1.0,>=0.23.0 in /opt/conda/lib/python3.11/site-packages (from astunparse>=1.6.0->tensorflow) (0.41.2)\n",
      "Requirement already satisfied: rich in /opt/conda/lib/python3.11/site-packages (from keras>=3.0.0->tensorflow) (13.5.3)\n",
      "Requirement already satisfied: namex in /opt/conda/lib/python3.11/site-packages (from keras>=3.0.0->tensorflow) (0.0.7)\n",
      "Requirement already satisfied: optree in /opt/conda/lib/python3.11/site-packages (from keras>=3.0.0->tensorflow) (0.11.0)\n",
      "Requirement already satisfied: charset-normalizer<4,>=2 in /opt/conda/lib/python3.11/site-packages (from requests<3,>=2.21.0->tensorflow) (3.2.0)\n",
      "Requirement already satisfied: idna<4,>=2.5 in /opt/conda/lib/python3.11/site-packages (from requests<3,>=2.21.0->tensorflow) (3.4)\n",
      "Requirement already satisfied: urllib3<3,>=1.21.1 in /opt/conda/lib/python3.11/site-packages (from requests<3,>=2.21.0->tensorflow) (2.0.4)\n",
      "Requirement already satisfied: certifi>=2017.4.17 in /opt/conda/lib/python3.11/site-packages (from requests<3,>=2.21.0->tensorflow) (2023.7.22)\n",
      "Requirement already satisfied: markdown>=2.6.8 in /opt/conda/lib/python3.11/site-packages (from tensorboard<2.17,>=2.16->tensorflow) (3.6)\n",
      "Requirement already satisfied: tensorboard-data-server<0.8.0,>=0.7.0 in /opt/conda/lib/python3.11/site-packages (from tensorboard<2.17,>=2.16->tensorflow) (0.7.2)\n",
      "Requirement already satisfied: werkzeug>=1.0.1 in /opt/conda/lib/python3.11/site-packages (from tensorboard<2.17,>=2.16->tensorflow) (3.0.1)\n",
      "Requirement already satisfied: MarkupSafe>=2.1.1 in /opt/conda/lib/python3.11/site-packages (from werkzeug>=1.0.1->tensorboard<2.17,>=2.16->tensorflow) (2.1.3)\n",
      "Requirement already satisfied: markdown-it-py>=2.2.0 in /opt/conda/lib/python3.11/site-packages (from rich->keras>=3.0.0->tensorflow) (3.0.0)\n",
      "Requirement already satisfied: pygments<3.0.0,>=2.13.0 in /opt/conda/lib/python3.11/site-packages (from rich->keras>=3.0.0->tensorflow) (2.16.1)\n",
      "Requirement already satisfied: mdurl~=0.1 in /opt/conda/lib/python3.11/site-packages (from markdown-it-py>=2.2.0->rich->keras>=3.0.0->tensorflow) (0.1.0)\n"
     ]
    }
   ],
   "source": [
    "#install packages\n",
    "!pip install tensorflow"
   ]
  },
  {
   "cell_type": "code",
   "execution_count": 79,
   "id": "f291c9b9-893a-4d60-889a-03c623b813ff",
   "metadata": {},
   "outputs": [],
   "source": [
    "#load packages\n",
    "\n",
    "import pandas as pd\n",
    "from sklearn.preprocessing import StandardScaler\n",
    "\n",
    "#packages for manipulating dataframe\n",
    "import numpy as np\n",
    "import pandas as pd\n",
    "import geopandas as gpd\n",
    "from shapely.geometry import Point\n",
    "import sklearn\n",
    "\n",
    "#packages for machine learning\n",
    "##train-test-split\n",
    "from sklearn.model_selection import train_test_split, GridSearchCV, validation_curve\n",
    "\n",
    "##method 1: Linear Regression (LR)\n",
    "from sklearn.linear_model import LinearRegression\n",
    "from sklearn.metrics import mean_squared_error, r2_score\n",
    "from sklearn.model_selection import cross_val_score\n",
    "\n",
    "##method 2: Random Forest Regressor (RF)\n",
    "import rfpimp\n",
    "from sklearn.ensemble import RandomForestRegressor\n",
    "\n",
    "##method 3: Gradient Boosting Regressor (XGB)\n",
    "import xgboost\n",
    "from xgboost import XGBRegressor\n",
    "\n",
    "##method 4: Artificial Neural Network (ANN)\n",
    "import tensorflow as tf\n",
    "from tensorflow import keras\n",
    "from tensorflow.keras import layers\n",
    "\n",
    "##cross validation\n",
    "\n",
    "##evaluation metrics (R2 and RMSE)\n",
    "from sklearn.metrics import r2_score, mean_squared_error\n",
    "\n",
    "#data visualization\n",
    "import matplotlib.pyplot as plt\n",
    "\n",
    "pd.set_option('display.max_rows', 300) # specifies number of rows to show\n",
    "pd.options.display.float_format = '{:40,.4f}'.format # specifies default number format to 4 decimal places\n",
    "plt.style.use('ggplot') # specifies that graphs should use ggplot styling\n",
    "%matplotlib inline"
   ]
  },
  {
   "cell_type": "markdown",
   "id": "8057ad41-fef0-4b06-a39b-df102fda6a43",
   "metadata": {},
   "source": [
    "## 1. Load & Cleaning Data"
   ]
  },
  {
   "cell_type": "code",
   "execution_count": 131,
   "id": "f4ae487f-4770-4419-94a1-8bd592fe6bef",
   "metadata": {},
   "outputs": [],
   "source": [
    "#load data\n",
    "soybean_2018 = pd.read_csv('https://www.dropbox.com/scl/fi/ixibqk9pyuehwvoz7mr1h/2018_County_Summary_Merged.csv?rlkey=wueodqdvzsht5or4eftwdd3ys&dl=1')\n",
    "soybean_2019 = pd.read_csv('https://www.dropbox.com/scl/fi/x3oiqrikr0xagqrh5tiqu/2019_County_Summary_Merged.csv?rlkey=zr5wru8sg5iybp43lnjf7ls5a&dl=1')\n",
    "soybean_2020 = pd.read_csv('https://www.dropbox.com/scl/fi/m4r74ydgw3yno93nakagl/2020_County_Summary_Merged.csv?rlkey=kmd8bozo9z9jxznoa775gg33z&dl=1')\n",
    "soybean_2021 = pd.read_csv('https://www.dropbox.com/scl/fi/2vmvsyjloz9hvzejtdez4/2021_County_Summary_Merged.csv?rlkey=ossgr4x3fvzgebhqprchntt2f&dl=1')\n",
    "soybean_2022 = pd.read_csv('https://www.dropbox.com/scl/fi/x61224yvwtq4idnqphwjy/2022_County_Summary_Merged.csv?rlkey=s3zm9ooap8pjqom3jr0aklc6t&dl=1')\n",
    "soybean_2023 = pd.read_csv('https://www.dropbox.com/scl/fi/zrjnmeqysrokfsua24hb3/2023_County_Summary_Merged.csv?rlkey=jb4w1pt295zeagbvgm7c2t7pk&dl=1')"
   ]
  },
  {
   "cell_type": "code",
   "execution_count": 132,
   "id": "a0f19696-6f26-4e1b-a5b8-885d1c72d620",
   "metadata": {},
   "outputs": [
    {
     "name": "stdout",
     "output_type": "stream",
     "text": [
      "<class 'pandas.core.frame.DataFrame'>\n",
      "Index: 316 entries, 0 to 52\n",
      "Data columns (total 7 columns):\n",
      " #   Column     Non-Null Count  Dtype  \n",
      "---  ------     --------------  -----  \n",
      " 0   LST_DAY    316 non-null    float64\n",
      " 1   PA         316 non-null    float64\n",
      " 2   NDVI       316 non-null    float64\n",
      " 3   ET         316 non-null    float64\n",
      " 4   LST_NIGHT  316 non-null    float64\n",
      " 5   PAR        316 non-null    float64\n",
      " 6   YIELD      316 non-null    float64\n",
      "dtypes: float64(7)\n",
      "memory usage: 19.8 KB\n"
     ]
    }
   ],
   "source": [
    "soybean_list = [soybean_2018, soybean_2019, soybean_2020, soybean_2021, soybean_2022, soybean_2023]\n",
    "soybean_df = pd.concat(soybean_list)\n",
    "soybean_df = soybean_df.drop(['NAME','GEOID','SMS_PM','SMS_AM','SAR'], axis=1)\n",
    "soybean_df.info()"
   ]
  },
  {
   "cell_type": "code",
   "execution_count": 133,
   "id": "4da88cfe-8ae5-4b30-9b8e-25abd630b15f",
   "metadata": {},
   "outputs": [
    {
     "data": {
      "text/plain": [
       "<Axes: >"
      ]
     },
     "execution_count": 133,
     "metadata": {},
     "output_type": "execute_result"
    },
    {
     "data": {
      "image/png": "[encoded data removed]",
      "text/plain": [
       "<Figure size 640x480 with 1 Axes>"
      ]
     },
     "metadata": {},
     "output_type": "display_data"
    }
   ],
   "source": [
    "soybean_df.YIELD.hist()"
   ]
  },
  {
   "cell_type": "code",
   "execution_count": 134,
   "id": "1b0be5bf-447b-4495-bcbc-a2f37ffde361",
   "metadata": {},
   "outputs": [
    {
     "data": {
      "text/plain": [
       "Text(0.5, 1.0, 'Correlation Matrix')"
      ]
     },
     "execution_count": 134,
     "metadata": {},
     "output_type": "execute_result"
    },
    {
     "data": {
      "image/png": "[encoded data removed]",
      "text/plain": [
       "<Figure size 1900x1500 with 2 Axes>"
      ]
     },
     "metadata": {},
     "output_type": "display_data"
    }
   ],
   "source": [
    "# Correlation coefficients\n",
    "correlation_matrix = soybean_df.corr()\n",
    "\n",
    "plt.rcParams[\"axes.grid\"] = False\n",
    "f = plt.figure(figsize=(19, 15))\n",
    "plt.matshow(soybean_df.corr(), fignum=f.number,cmap='bwr')\n",
    "plt.xticks(range(soybean_df.shape[1]), soybean_df.columns, fontsize=14, rotation=90)\n",
    "plt.yticks(range(soybean_df.shape[1]), soybean_df.columns, fontsize=14)\n",
    "\n",
    "for i in range(soybean_df.shape[1]):\n",
    "    for j in range(soybean_df.shape[1]):\n",
    "        plt.text(j, i, f'{correlation_matrix.iloc[i, j]:.2f}', ha='center', va='center', fontsize=12, color='black')\n",
    "\n",
    "cb = plt.colorbar()\n",
    "cb.ax.tick_params(labelsize=14)\n",
    "\n",
    "plt.savefig('correlation_matrix_soybean.png', bbox_inches='tight')\n",
    "\n",
    "plt.title('Correlation Matrix', fontsize=16)"
   ]
  },
  {
   "cell_type": "markdown",
   "id": "5f14e42e-6cb8-4456-9f1a-053c28dd387b",
   "metadata": {},
   "source": [
    "## 2.1 Train & Test Data Split"
   ]
  },
  {
   "cell_type": "code",
   "execution_count": 135,
   "id": "765d6567-bcfa-4531-969b-26cbad93856b",
   "metadata": {},
   "outputs": [],
   "source": [
    "#split the dataset\n",
    "X = soybean_df.drop('YIELD', axis=1)\n",
    "y = soybean_df['YIELD']\n",
    "\n",
    "X_train, X_test, y_train, y_test = train_test_split(X, y, test_size=0.25, random_state=100)"
   ]
  },
  {
   "cell_type": "markdown",
   "id": "fb744178-c413-4c63-b972-7ca80a312f29",
   "metadata": {},
   "source": [
    "## 2.2 Train & Test Data Standarderlized"
   ]
  },
  {
   "cell_type": "code",
   "execution_count": 136,
   "id": "b882c2c6-6106-4538-9949-62b2a7b27bff",
   "metadata": {},
   "outputs": [],
   "source": [
    "def standardize_columns(file_name, columns_to_standardize):\n",
    "    scaler = StandardScaler()\n",
    "\n",
    "    df = file_name\n",
    "    df[columns_to_standardize] = scaler.fit_transform(df[columns_to_standardize])\n",
    "    return df\n",
    "\n",
    "def standardize_series(series):\n",
    "    scaler = StandardScaler()\n",
    "    series = scaler.fit_transform(series.values.reshape(-1, 1)).flatten()\n",
    "    return series\n",
    "    \n",
    "X_columns = ['LST_DAY','PA','NDVI','ET','LST_NIGHT','PAR']\n",
    "y_columns = ['YIELD']\n",
    "\n",
    "X_train = standardize_columns(X_train, X_columns)\n",
    "X_test = standardize_columns(X_test, X_columns)\n",
    "\n",
    "#y_train = standardize_series(y_train)\n",
    "#y_test = standardize_series(y_test)\n"
   ]
  },
  {
   "cell_type": "markdown",
   "id": "80c72d11-ac6c-42b2-aa42-5e2811d1f9db",
   "metadata": {},
   "source": [
    "## 3. Model Training and Parameter Tuning"
   ]
  },
  {
   "cell_type": "markdown",
   "id": "49aeb204-e10e-412f-a699-209c8c781591",
   "metadata": {},
   "source": [
    "### 3.1. Linear Regression (LR)"
   ]
  },
  {
   "cell_type": "code",
   "execution_count": 137,
   "id": "c990d8d1-6899-4b44-9bce-7524102944ce",
   "metadata": {},
   "outputs": [
    {
     "name": "stdout",
     "output_type": "stream",
     "text": [
      "Mean MSE: -13.599376472183371\n",
      "Standard Deviation of MSE: 1.42475853144851\n"
     ]
    }
   ],
   "source": [
    "model_lr = LinearRegression()\n",
    "\n",
    "# Cross validation\n",
    "scores = cross_val_score(model_lr, X, y, cv=5, scoring='neg_mean_squared_error')\n",
    "\n",
    "mean_mse = np.mean(scores)\n",
    "std_mse = np.std(scores)\n",
    "\n",
    "print(f'Mean MSE: {mean_mse}')\n",
    "print(f'Standard Deviation of MSE: {std_mse}')"
   ]
  },
  {
   "cell_type": "code",
   "execution_count": 138,
   "id": "cd86a038-0695-4ad8-a6d7-425067dbb5b4",
   "metadata": {},
   "outputs": [
    {
     "data": {
      "text/html": [
       "<style>#sk-container-id-13 {color: black;}#sk-container-id-13 pre{padding: 0;}#sk-container-id-13 div.sk-toggleable {background-color: white;}#sk-container-id-13 label.sk-toggleable__label {cursor: pointer;display: block;width: 100%;margin-bottom: 0;padding: 0.3em;box-sizing: border-box;text-align: center;}#sk-container-id-13 label.sk-toggleable__label-arrow:before {content: \"▸\";float: left;margin-right: 0.25em;color: #696969;}#sk-container-id-13 label.sk-toggleable__label-arrow:hover:before {color: black;}#sk-container-id-13 div.sk-estimator:hover label.sk-toggleable__label-arrow:before {color: black;}#sk-container-id-13 div.sk-toggleable__content {max-height: 0;max-width: 0;overflow: hidden;text-align: left;background-color: #f0f8ff;}#sk-container-id-13 div.sk-toggleable__content pre {margin: 0.2em;color: black;border-radius: 0.25em;background-color: #f0f8ff;}#sk-container-id-13 input.sk-toggleable__control:checked~div.sk-toggleable__content {max-height: 200px;max-width: 100%;overflow: auto;}#sk-container-id-13 input.sk-toggleable__control:checked~label.sk-toggleable__label-arrow:before {content: \"▾\";}#sk-container-id-13 div.sk-estimator input.sk-toggleable__control:checked~label.sk-toggleable__label {background-color: #d4ebff;}#sk-container-id-13 div.sk-label input.sk-toggleable__control:checked~label.sk-toggleable__label {background-color: #d4ebff;}#sk-container-id-13 input.sk-hidden--visually {border: 0;clip: rect(1px 1px 1px 1px);clip: rect(1px, 1px, 1px, 1px);height: 1px;margin: -1px;overflow: hidden;padding: 0;position: absolute;width: 1px;}#sk-container-id-13 div.sk-estimator {font-family: monospace;background-color: #f0f8ff;border: 1px dotted black;border-radius: 0.25em;box-sizing: border-box;margin-bottom: 0.5em;}#sk-container-id-13 div.sk-estimator:hover {background-color: #d4ebff;}#sk-container-id-13 div.sk-parallel-item::after {content: \"\";width: 100%;border-bottom: 1px solid gray;flex-grow: 1;}#sk-container-id-13 div.sk-label:hover label.sk-toggleable__label {background-color: #d4ebff;}#sk-container-id-13 div.sk-serial::before {content: \"\";position: absolute;border-left: 1px solid gray;box-sizing: border-box;top: 0;bottom: 0;left: 50%;z-index: 0;}#sk-container-id-13 div.sk-serial {display: flex;flex-direction: column;align-items: center;background-color: white;padding-right: 0.2em;padding-left: 0.2em;position: relative;}#sk-container-id-13 div.sk-item {position: relative;z-index: 1;}#sk-container-id-13 div.sk-parallel {display: flex;align-items: stretch;justify-content: center;background-color: white;position: relative;}#sk-container-id-13 div.sk-item::before, #sk-container-id-13 div.sk-parallel-item::before {content: \"\";position: absolute;border-left: 1px solid gray;box-sizing: border-box;top: 0;bottom: 0;left: 50%;z-index: -1;}#sk-container-id-13 div.sk-parallel-item {display: flex;flex-direction: column;z-index: 1;position: relative;background-color: white;}#sk-container-id-13 div.sk-parallel-item:first-child::after {align-self: flex-end;width: 50%;}#sk-container-id-13 div.sk-parallel-item:last-child::after {align-self: flex-start;width: 50%;}#sk-container-id-13 div.sk-parallel-item:only-child::after {width: 0;}#sk-container-id-13 div.sk-dashed-wrapped {border: 1px dashed gray;margin: 0 0.4em 0.5em 0.4em;box-sizing: border-box;padding-bottom: 0.4em;background-color: white;}#sk-container-id-13 div.sk-label label {font-family: monospace;font-weight: bold;display: inline-block;line-height: 1.2em;}#sk-container-id-13 div.sk-label-container {text-align: center;}#sk-container-id-13 div.sk-container {/* jupyter's `normalize.less` sets `[hidden] { display: none; }` but bootstrap.min.css set `[hidden] { display: none !important; }` so we also need the `!important` here to be able to override the default hidden behavior on the sphinx rendered scikit-learn.org. See: https://github.com/scikit-learn/scikit-learn/issues/21755 */display: inline-block !important;position: relative;}#sk-container-id-13 div.sk-text-repr-fallback {display: none;}</style><div id=\"sk-container-id-13\" class=\"sk-top-container\"><div class=\"sk-text-repr-fallback\"><pre>LinearRegression()</pre><b>In a Jupyter environment, please rerun this cell to show the HTML representation or trust the notebook. <br />On GitHub, the HTML representation is unable to render, please try loading this page with nbviewer.org.</b></div><div class=\"sk-container\" hidden><div class=\"sk-item\"><div class=\"sk-estimator sk-toggleable\"><input class=\"sk-toggleable__control sk-hidden--visually\" id=\"sk-estimator-id-13\" type=\"checkbox\" checked><label for=\"sk-estimator-id-13\" class=\"sk-toggleable__label sk-toggleable__label-arrow\">LinearRegression</label><div class=\"sk-toggleable__content\"><pre>LinearRegression()</pre></div></div></div></div></div>"
      ],
      "text/plain": [
       "LinearRegression()"
      ]
     },
     "execution_count": 138,
     "metadata": {},
     "output_type": "execute_result"
    }
   ],
   "source": [
    "model_lr.fit(X_train, y_train)"
   ]
  },
  {
   "cell_type": "markdown",
   "id": "21c5e2ca-637a-474c-a9c6-3e602594cbd0",
   "metadata": {},
   "source": [
    "### 3.2. Random Forest Regressor (RF)"
   ]
  },
  {
   "cell_type": "code",
   "execution_count": 139,
   "id": "b86cc258-f389-4b8b-bf65-83fa44eceed0",
   "metadata": {},
   "outputs": [
    {
     "name": "stdout",
     "output_type": "stream",
     "text": [
      "The best parameter value is: \n",
      "{'max_depth': 20, 'min_samples_split': 4}\n",
      "The best score is: \n",
      "0.8122505039988435\n"
     ]
    }
   ],
   "source": [
    "# values of max_depth and min_samples_split\n",
    "hyperparameters = {'max_depth':[3,5,10,20,30], 'min_samples_split':[2,4,6,8,10]}\n",
    "\n",
    "\n",
    "randomState_dt = 10000\n",
    "model_rf = RandomForestRegressor(random_state=randomState_dt)\n",
    "\n",
    "# cv=5 by default, which means 5-fold cross-validation\n",
    "clf = GridSearchCV(model_rf, hyperparameters)\n",
    "\n",
    "clf.fit(X_train, y_train)\n",
    "\n",
    "# we can query the best parameter value and its accuracy score\n",
    "print (\"The best parameter value is: \")\n",
    "print (clf.best_params_)\n",
    "print (\"The best score is: \")\n",
    "print (clf.best_score_)"
   ]
  },
  {
   "cell_type": "code",
   "execution_count": 140,
   "id": "a97b9cf2-7b3e-41ca-8fe4-cd91374c8462",
   "metadata": {},
   "outputs": [
    {
     "data": {
      "text/html": [
       "<style>#sk-container-id-14 {color: black;}#sk-container-id-14 pre{padding: 0;}#sk-container-id-14 div.sk-toggleable {background-color: white;}#sk-container-id-14 label.sk-toggleable__label {cursor: pointer;display: block;width: 100%;margin-bottom: 0;padding: 0.3em;box-sizing: border-box;text-align: center;}#sk-container-id-14 label.sk-toggleable__label-arrow:before {content: \"▸\";float: left;margin-right: 0.25em;color: #696969;}#sk-container-id-14 label.sk-toggleable__label-arrow:hover:before {color: black;}#sk-container-id-14 div.sk-estimator:hover label.sk-toggleable__label-arrow:before {color: black;}#sk-container-id-14 div.sk-toggleable__content {max-height: 0;max-width: 0;overflow: hidden;text-align: left;background-color: #f0f8ff;}#sk-container-id-14 div.sk-toggleable__content pre {margin: 0.2em;color: black;border-radius: 0.25em;background-color: #f0f8ff;}#sk-container-id-14 input.sk-toggleable__control:checked~div.sk-toggleable__content {max-height: 200px;max-width: 100%;overflow: auto;}#sk-container-id-14 input.sk-toggleable__control:checked~label.sk-toggleable__label-arrow:before {content: \"▾\";}#sk-container-id-14 div.sk-estimator input.sk-toggleable__control:checked~label.sk-toggleable__label {background-color: #d4ebff;}#sk-container-id-14 div.sk-label input.sk-toggleable__control:checked~label.sk-toggleable__label {background-color: #d4ebff;}#sk-container-id-14 input.sk-hidden--visually {border: 0;clip: rect(1px 1px 1px 1px);clip: rect(1px, 1px, 1px, 1px);height: 1px;margin: -1px;overflow: hidden;padding: 0;position: absolute;width: 1px;}#sk-container-id-14 div.sk-estimator {font-family: monospace;background-color: #f0f8ff;border: 1px dotted black;border-radius: 0.25em;box-sizing: border-box;margin-bottom: 0.5em;}#sk-container-id-14 div.sk-estimator:hover {background-color: #d4ebff;}#sk-container-id-14 div.sk-parallel-item::after {content: \"\";width: 100%;border-bottom: 1px solid gray;flex-grow: 1;}#sk-container-id-14 div.sk-label:hover label.sk-toggleable__label {background-color: #d4ebff;}#sk-container-id-14 div.sk-serial::before {content: \"\";position: absolute;border-left: 1px solid gray;box-sizing: border-box;top: 0;bottom: 0;left: 50%;z-index: 0;}#sk-container-id-14 div.sk-serial {display: flex;flex-direction: column;align-items: center;background-color: white;padding-right: 0.2em;padding-left: 0.2em;position: relative;}#sk-container-id-14 div.sk-item {position: relative;z-index: 1;}#sk-container-id-14 div.sk-parallel {display: flex;align-items: stretch;justify-content: center;background-color: white;position: relative;}#sk-container-id-14 div.sk-item::before, #sk-container-id-14 div.sk-parallel-item::before {content: \"\";position: absolute;border-left: 1px solid gray;box-sizing: border-box;top: 0;bottom: 0;left: 50%;z-index: -1;}#sk-container-id-14 div.sk-parallel-item {display: flex;flex-direction: column;z-index: 1;position: relative;background-color: white;}#sk-container-id-14 div.sk-parallel-item:first-child::after {align-self: flex-end;width: 50%;}#sk-container-id-14 div.sk-parallel-item:last-child::after {align-self: flex-start;width: 50%;}#sk-container-id-14 div.sk-parallel-item:only-child::after {width: 0;}#sk-container-id-14 div.sk-dashed-wrapped {border: 1px dashed gray;margin: 0 0.4em 0.5em 0.4em;box-sizing: border-box;padding-bottom: 0.4em;background-color: white;}#sk-container-id-14 div.sk-label label {font-family: monospace;font-weight: bold;display: inline-block;line-height: 1.2em;}#sk-container-id-14 div.sk-label-container {text-align: center;}#sk-container-id-14 div.sk-container {/* jupyter's `normalize.less` sets `[hidden] { display: none; }` but bootstrap.min.css set `[hidden] { display: none !important; }` so we also need the `!important` here to be able to override the default hidden behavior on the sphinx rendered scikit-learn.org. See: https://github.com/scikit-learn/scikit-learn/issues/21755 */display: inline-block !important;position: relative;}#sk-container-id-14 div.sk-text-repr-fallback {display: none;}</style><div id=\"sk-container-id-14\" class=\"sk-top-container\"><div class=\"sk-text-repr-fallback\"><pre>RandomForestRegressor(max_depth=20, min_samples_split=4, random_state=10000)</pre><b>In a Jupyter environment, please rerun this cell to show the HTML representation or trust the notebook. <br />On GitHub, the HTML representation is unable to render, please try loading this page with nbviewer.org.</b></div><div class=\"sk-container\" hidden><div class=\"sk-item\"><div class=\"sk-estimator sk-toggleable\"><input class=\"sk-toggleable__control sk-hidden--visually\" id=\"sk-estimator-id-14\" type=\"checkbox\" checked><label for=\"sk-estimator-id-14\" class=\"sk-toggleable__label sk-toggleable__label-arrow\">RandomForestRegressor</label><div class=\"sk-toggleable__content\"><pre>RandomForestRegressor(max_depth=20, min_samples_split=4, random_state=10000)</pre></div></div></div></div></div>"
      ],
      "text/plain": [
       "RandomForestRegressor(max_depth=20, min_samples_split=4, random_state=10000)"
      ]
     },
     "execution_count": 140,
     "metadata": {},
     "output_type": "execute_result"
    }
   ],
   "source": [
    "# Train the final RF\n",
    "rf_final = RandomForestRegressor(max_depth=clf.best_params_['max_depth'], min_samples_split=clf.best_params_['min_samples_split'], random_state=randomState_dt)\n",
    "rf_final.fit(X_train, y_train)"
   ]
  },
  {
   "cell_type": "markdown",
   "id": "14f8ace6-4d08-42ae-8c46-8b4be6caf95e",
   "metadata": {},
   "source": [
    "### 3.3. Gradient Boosting Regressor (XGB)"
   ]
  },
  {
   "cell_type": "code",
   "execution_count": 141,
   "id": "f3c232cb-de46-454e-bedc-5cbabd5234e4",
   "metadata": {},
   "outputs": [],
   "source": [
    "import warnings\n",
    "\n",
    "# 设置忽略 FutureWarning 类型的警告\n",
    "warnings.simplefilter(action='ignore', category=FutureWarning)"
   ]
  },
  {
   "cell_type": "code",
   "execution_count": 142,
   "id": "55997a80-78e0-4371-84e9-649d5a3e4604",
   "metadata": {},
   "outputs": [
    {
     "name": "stdout",
     "output_type": "stream",
     "text": [
      "The best parameter value is: \n",
      "{'max_depth': 2, 'n_estimators': 20}\n",
      "The best score is: \n",
      "0.8119468473201896\n"
     ]
    }
   ],
   "source": [
    "# model_xgb =\n",
    "# soybean_df\n",
    "\n",
    "# values of max_depth and min_samples_split\n",
    "hyperparameters = {'max_depth':[2,4,6,8,10], 'n_estimators':[4,8,12,16,20]}\n",
    "\n",
    "randomState_xgb = 125\n",
    "xgb = XGBRegressor(random_state=randomState_xgb)\n",
    "\n",
    "# cv=5 by default, which means 5-fold cross-validation\n",
    "gscv_xgb = GridSearchCV(xgb, hyperparameters)\n",
    "\n",
    "gscv_xgb.fit(X_train, y_train)\n",
    "\n",
    "# we can query the best parameter value and its accuracy score\n",
    "print (\"The best parameter value is: \")\n",
    "print (gscv_xgb.best_params_)\n",
    "print (\"The best score is: \")\n",
    "print (gscv_xgb.best_score_)"
   ]
  },
  {
   "cell_type": "markdown",
   "id": "24ed003c-d187-4e75-b5b0-b19650825197",
   "metadata": {},
   "source": [
    "### 3.4. Artificial Neural Network (ANN)"
   ]
  },
  {
   "cell_type": "code",
   "execution_count": 145,
   "id": "cc015443-3613-4d20-a879-3ec3a0467331",
   "metadata": {},
   "outputs": [],
   "source": [
    "model_ann = keras.Sequential([\n",
    "    layers.Input(shape=(6,)),  # Input layer\n",
    "    layers.Dense(128, activation='relu'),  # Hidden layer with ReLU activation\n",
    "    layers.Dropout(0.5),  # Dropout layer for regularization\n",
    "    layers.Dense(64, activation='relu'),  # Additional hidden layer\n",
    "    layers.Dropout(0.3),  # Another dropout layer\n",
    "    layers.Dense(1)  # Output layer\n",
    "])\n",
    "\n",
    "#measuring the training with certain metrics\n",
    "model_ann.compile(optimizer='adam', loss='mean_squared_error', metrics=['accuracy'])"
   ]
  },
  {
   "cell_type": "code",
   "execution_count": 146,
   "id": "7abd2af1-0d33-4f8f-bacc-ab4441338a07",
   "metadata": {},
   "outputs": [
    {
     "name": "stdout",
     "output_type": "stream",
     "text": [
      "Epoch 1/100\n",
      "\u001b[1m8/8\u001b[0m \u001b[32m━━━━━━━━━━━━━━━━━━━━\u001b[0m\u001b[37m\u001b[0m \u001b[1m1s\u001b[0m 20ms/step - accuracy: 0.0000e+00 - loss: 908.8058 - val_accuracy: 0.0000e+00 - val_loss: 874.9622\n",
      "Epoch 2/100\n",
      "\u001b[1m8/8\u001b[0m \u001b[32m━━━━━━━━━━━━━━━━━━━━\u001b[0m\u001b[37m\u001b[0m \u001b[1m0s\u001b[0m 5ms/step - accuracy: 0.0000e+00 - loss: 881.8877 - val_accuracy: 0.0000e+00 - val_loss: 824.8320\n",
      "Epoch 3/100\n",
      "\u001b[1m8/8\u001b[0m \u001b[32m━━━━━━━━━━━━━━━━━━━━\u001b[0m\u001b[37m\u001b[0m \u001b[1m0s\u001b[0m 5ms/step - accuracy: 0.0000e+00 - loss: 807.2585 - val_accuracy: 0.0000e+00 - val_loss: 761.8193\n",
      "Epoch 4/100\n",
      "\u001b[1m8/8\u001b[0m \u001b[32m━━━━━━━━━━━━━━━━━━━━\u001b[0m\u001b[37m\u001b[0m \u001b[1m0s\u001b[0m 6ms/step - accuracy: 0.0000e+00 - loss: 770.3871 - val_accuracy: 0.0000e+00 - val_loss: 682.5032\n",
      "Epoch 5/100\n",
      "\u001b[1m8/8\u001b[0m \u001b[32m━━━━━━━━━━━━━━━━━━━━\u001b[0m\u001b[37m\u001b[0m \u001b[1m0s\u001b[0m 5ms/step - accuracy: 0.0000e+00 - loss: 673.8093 - val_accuracy: 0.0000e+00 - val_loss: 588.1645\n",
      "Epoch 6/100\n",
      "\u001b[1m8/8\u001b[0m \u001b[32m━━━━━━━━━━━━━━━━━━━━\u001b[0m\u001b[37m\u001b[0m \u001b[1m0s\u001b[0m 5ms/step - accuracy: 0.0000e+00 - loss: 548.4451 - val_accuracy: 0.0000e+00 - val_loss: 482.6881\n",
      "Epoch 7/100\n",
      "\u001b[1m8/8\u001b[0m \u001b[32m━━━━━━━━━━━━━━━━━━━━\u001b[0m\u001b[37m\u001b[0m \u001b[1m0s\u001b[0m 5ms/step - accuracy: 0.0000e+00 - loss: 474.4578 - val_accuracy: 0.0000e+00 - val_loss: 372.2153\n",
      "Epoch 8/100\n",
      "\u001b[1m8/8\u001b[0m \u001b[32m━━━━━━━━━━━━━━━━━━━━\u001b[0m\u001b[37m\u001b[0m \u001b[1m0s\u001b[0m 5ms/step - accuracy: 0.0000e+00 - loss: 345.3992 - val_accuracy: 0.0000e+00 - val_loss: 267.8072\n",
      "Epoch 9/100\n",
      "\u001b[1m8/8\u001b[0m \u001b[32m━━━━━━━━━━━━━━━━━━━━\u001b[0m\u001b[37m\u001b[0m \u001b[1m0s\u001b[0m 5ms/step - accuracy: 0.0000e+00 - loss: 253.2850 - val_accuracy: 0.0000e+00 - val_loss: 177.0001\n",
      "Epoch 10/100\n",
      "\u001b[1m8/8\u001b[0m \u001b[32m━━━━━━━━━━━━━━━━━━━━\u001b[0m\u001b[37m\u001b[0m \u001b[1m0s\u001b[0m 6ms/step - accuracy: 0.0000e+00 - loss: 163.8889 - val_accuracy: 0.0000e+00 - val_loss: 115.4538\n",
      "Epoch 11/100\n",
      "\u001b[1m8/8\u001b[0m \u001b[32m━━━━━━━━━━━━━━━━━━━━\u001b[0m\u001b[37m\u001b[0m \u001b[1m0s\u001b[0m 9ms/step - accuracy: 0.0000e+00 - loss: 143.7180 - val_accuracy: 0.0000e+00 - val_loss: 83.0094\n",
      "Epoch 12/100\n",
      "\u001b[1m8/8\u001b[0m \u001b[32m━━━━━━━━━━━━━━━━━━━━\u001b[0m\u001b[37m\u001b[0m \u001b[1m0s\u001b[0m 5ms/step - accuracy: 0.0000e+00 - loss: 105.2606 - val_accuracy: 0.0000e+00 - val_loss: 66.7544\n",
      "Epoch 13/100\n",
      "\u001b[1m8/8\u001b[0m \u001b[32m━━━━━━━━━━━━━━━━━━━━\u001b[0m\u001b[37m\u001b[0m \u001b[1m0s\u001b[0m 5ms/step - accuracy: 0.0000e+00 - loss: 105.3339 - val_accuracy: 0.0000e+00 - val_loss: 61.2751\n",
      "Epoch 14/100\n",
      "\u001b[1m8/8\u001b[0m \u001b[32m━━━━━━━━━━━━━━━━━━━━\u001b[0m\u001b[37m\u001b[0m \u001b[1m0s\u001b[0m 5ms/step - accuracy: 0.0000e+00 - loss: 100.4879 - val_accuracy: 0.0000e+00 - val_loss: 57.5591\n",
      "Epoch 15/100\n",
      "\u001b[1m8/8\u001b[0m \u001b[32m━━━━━━━━━━━━━━━━━━━━\u001b[0m\u001b[37m\u001b[0m \u001b[1m0s\u001b[0m 5ms/step - accuracy: 0.0000e+00 - loss: 84.1489 - val_accuracy: 0.0000e+00 - val_loss: 54.7739\n",
      "Epoch 16/100\n",
      "\u001b[1m8/8\u001b[0m \u001b[32m━━━━━━━━━━━━━━━━━━━━\u001b[0m\u001b[37m\u001b[0m \u001b[1m0s\u001b[0m 5ms/step - accuracy: 0.0000e+00 - loss: 80.5980 - val_accuracy: 0.0000e+00 - val_loss: 53.6406\n",
      "Epoch 17/100\n",
      "\u001b[1m8/8\u001b[0m \u001b[32m━━━━━━━━━━━━━━━━━━━━\u001b[0m\u001b[37m\u001b[0m \u001b[1m0s\u001b[0m 5ms/step - accuracy: 0.0000e+00 - loss: 79.7008 - val_accuracy: 0.0000e+00 - val_loss: 51.5685\n",
      "Epoch 18/100\n",
      "\u001b[1m8/8\u001b[0m \u001b[32m━━━━━━━━━━━━━━━━━━━━\u001b[0m\u001b[37m\u001b[0m \u001b[1m0s\u001b[0m 5ms/step - accuracy: 0.0000e+00 - loss: 80.1594 - val_accuracy: 0.0000e+00 - val_loss: 48.3465\n",
      "Epoch 19/100\n",
      "\u001b[1m8/8\u001b[0m \u001b[32m━━━━━━━━━━━━━━━━━━━━\u001b[0m\u001b[37m\u001b[0m \u001b[1m0s\u001b[0m 5ms/step - accuracy: 0.0000e+00 - loss: 69.1882 - val_accuracy: 0.0000e+00 - val_loss: 44.7548\n",
      "Epoch 20/100\n",
      "\u001b[1m8/8\u001b[0m \u001b[32m━━━━━━━━━━━━━━━━━━━━\u001b[0m\u001b[37m\u001b[0m \u001b[1m0s\u001b[0m 5ms/step - accuracy: 0.0000e+00 - loss: 65.8164 - val_accuracy: 0.0000e+00 - val_loss: 42.1481\n",
      "Epoch 21/100\n",
      "\u001b[1m8/8\u001b[0m \u001b[32m━━━━━━━━━━━━━━━━━━━━\u001b[0m\u001b[37m\u001b[0m \u001b[1m0s\u001b[0m 6ms/step - accuracy: 0.0000e+00 - loss: 70.6251 - val_accuracy: 0.0000e+00 - val_loss: 41.2548\n",
      "Epoch 22/100\n",
      "\u001b[1m8/8\u001b[0m \u001b[32m━━━━━━━━━━━━━━━━━━━━\u001b[0m\u001b[37m\u001b[0m \u001b[1m0s\u001b[0m 5ms/step - accuracy: 0.0000e+00 - loss: 67.4814 - val_accuracy: 0.0000e+00 - val_loss: 39.9367\n",
      "Epoch 23/100\n",
      "\u001b[1m8/8\u001b[0m \u001b[32m━━━━━━━━━━━━━━━━━━━━\u001b[0m\u001b[37m\u001b[0m \u001b[1m0s\u001b[0m 6ms/step - accuracy: 0.0000e+00 - loss: 65.2247 - val_accuracy: 0.0000e+00 - val_loss: 37.4850\n",
      "Epoch 24/100\n",
      "\u001b[1m8/8\u001b[0m \u001b[32m━━━━━━━━━━━━━━━━━━━━\u001b[0m\u001b[37m\u001b[0m \u001b[1m0s\u001b[0m 6ms/step - accuracy: 0.0000e+00 - loss: 54.6812 - val_accuracy: 0.0000e+00 - val_loss: 35.5363\n",
      "Epoch 25/100\n",
      "\u001b[1m8/8\u001b[0m \u001b[32m━━━━━━━━━━━━━━━━━━━━\u001b[0m\u001b[37m\u001b[0m \u001b[1m0s\u001b[0m 6ms/step - accuracy: 0.0000e+00 - loss: 55.7305 - val_accuracy: 0.0000e+00 - val_loss: 34.7602\n",
      "Epoch 26/100\n",
      "\u001b[1m8/8\u001b[0m \u001b[32m━━━━━━━━━━━━━━━━━━━━\u001b[0m\u001b[37m\u001b[0m \u001b[1m0s\u001b[0m 9ms/step - accuracy: 0.0000e+00 - loss: 58.8423 - val_accuracy: 0.0000e+00 - val_loss: 34.5759\n",
      "Epoch 27/100\n",
      "\u001b[1m8/8\u001b[0m \u001b[32m━━━━━━━━━━━━━━━━━━━━\u001b[0m\u001b[37m\u001b[0m \u001b[1m0s\u001b[0m 6ms/step - accuracy: 0.0000e+00 - loss: 50.8253 - val_accuracy: 0.0000e+00 - val_loss: 33.1217\n",
      "Epoch 28/100\n",
      "\u001b[1m8/8\u001b[0m \u001b[32m━━━━━━━━━━━━━━━━━━━━\u001b[0m\u001b[37m\u001b[0m \u001b[1m0s\u001b[0m 6ms/step - accuracy: 0.0000e+00 - loss: 57.8260 - val_accuracy: 0.0000e+00 - val_loss: 32.6150\n",
      "Epoch 29/100\n",
      "\u001b[1m8/8\u001b[0m \u001b[32m━━━━━━━━━━━━━━━━━━━━\u001b[0m\u001b[37m\u001b[0m \u001b[1m0s\u001b[0m 7ms/step - accuracy: 0.0000e+00 - loss: 47.4429 - val_accuracy: 0.0000e+00 - val_loss: 31.8825\n",
      "Epoch 30/100\n",
      "\u001b[1m8/8\u001b[0m \u001b[32m━━━━━━━━━━━━━━━━━━━━\u001b[0m\u001b[37m\u001b[0m \u001b[1m0s\u001b[0m 4ms/step - accuracy: 0.0000e+00 - loss: 45.1291 - val_accuracy: 0.0000e+00 - val_loss: 30.8348\n",
      "Epoch 31/100\n",
      "\u001b[1m8/8\u001b[0m \u001b[32m━━━━━━━━━━━━━━━━━━━━\u001b[0m\u001b[37m\u001b[0m \u001b[1m0s\u001b[0m 5ms/step - accuracy: 0.0000e+00 - loss: 56.9867 - val_accuracy: 0.0000e+00 - val_loss: 29.5875\n",
      "Epoch 32/100\n",
      "\u001b[1m8/8\u001b[0m \u001b[32m━━━━━━━━━━━━━━━━━━━━\u001b[0m\u001b[37m\u001b[0m \u001b[1m0s\u001b[0m 5ms/step - accuracy: 0.0000e+00 - loss: 55.9614 - val_accuracy: 0.0000e+00 - val_loss: 29.6100\n",
      "Epoch 33/100\n",
      "\u001b[1m8/8\u001b[0m \u001b[32m━━━━━━━━━━━━━━━━━━━━\u001b[0m\u001b[37m\u001b[0m \u001b[1m0s\u001b[0m 5ms/step - accuracy: 0.0000e+00 - loss: 57.8997 - val_accuracy: 0.0000e+00 - val_loss: 28.9729\n",
      "Epoch 34/100\n",
      "\u001b[1m8/8\u001b[0m \u001b[32m━━━━━━━━━━━━━━━━━━━━\u001b[0m\u001b[37m\u001b[0m \u001b[1m0s\u001b[0m 6ms/step - accuracy: 0.0000e+00 - loss: 49.0065 - val_accuracy: 0.0000e+00 - val_loss: 27.6935\n",
      "Epoch 35/100\n",
      "\u001b[1m8/8\u001b[0m \u001b[32m━━━━━━━━━━━━━━━━━━━━\u001b[0m\u001b[37m\u001b[0m \u001b[1m0s\u001b[0m 5ms/step - accuracy: 0.0000e+00 - loss: 43.3303 - val_accuracy: 0.0000e+00 - val_loss: 27.1780\n",
      "Epoch 36/100\n",
      "\u001b[1m8/8\u001b[0m \u001b[32m━━━━━━━━━━━━━━━━━━━━\u001b[0m\u001b[37m\u001b[0m \u001b[1m0s\u001b[0m 6ms/step - accuracy: 0.0000e+00 - loss: 40.8218 - val_accuracy: 0.0000e+00 - val_loss: 26.3893\n",
      "Epoch 37/100\n",
      "\u001b[1m8/8\u001b[0m \u001b[32m━━━━━━━━━━━━━━━━━━━━\u001b[0m\u001b[37m\u001b[0m \u001b[1m0s\u001b[0m 5ms/step - accuracy: 0.0000e+00 - loss: 48.5167 - val_accuracy: 0.0000e+00 - val_loss: 25.7885\n",
      "Epoch 38/100\n",
      "\u001b[1m8/8\u001b[0m \u001b[32m━━━━━━━━━━━━━━━━━━━━\u001b[0m\u001b[37m\u001b[0m \u001b[1m0s\u001b[0m 5ms/step - accuracy: 0.0000e+00 - loss: 43.8141 - val_accuracy: 0.0000e+00 - val_loss: 25.7485\n",
      "Epoch 39/100\n",
      "\u001b[1m8/8\u001b[0m \u001b[32m━━━━━━━━━━━━━━━━━━━━\u001b[0m\u001b[37m\u001b[0m \u001b[1m0s\u001b[0m 5ms/step - accuracy: 0.0000e+00 - loss: 34.2318 - val_accuracy: 0.0000e+00 - val_loss: 25.6844\n",
      "Epoch 40/100\n",
      "\u001b[1m8/8\u001b[0m \u001b[32m━━━━━━━━━━━━━━━━━━━━\u001b[0m\u001b[37m\u001b[0m \u001b[1m0s\u001b[0m 5ms/step - accuracy: 0.0000e+00 - loss: 48.8074 - val_accuracy: 0.0000e+00 - val_loss: 25.6061\n",
      "Epoch 41/100\n",
      "\u001b[1m8/8\u001b[0m \u001b[32m━━━━━━━━━━━━━━━━━━━━\u001b[0m\u001b[37m\u001b[0m \u001b[1m0s\u001b[0m 5ms/step - accuracy: 0.0000e+00 - loss: 45.4220 - val_accuracy: 0.0000e+00 - val_loss: 26.5852\n",
      "Epoch 42/100\n",
      "\u001b[1m8/8\u001b[0m \u001b[32m━━━━━━━━━━━━━━━━━━━━\u001b[0m\u001b[37m\u001b[0m \u001b[1m0s\u001b[0m 5ms/step - accuracy: 0.0000e+00 - loss: 42.3302 - val_accuracy: 0.0000e+00 - val_loss: 26.4074\n",
      "Epoch 43/100\n",
      "\u001b[1m8/8\u001b[0m \u001b[32m━━━━━━━━━━━━━━━━━━━━\u001b[0m\u001b[37m\u001b[0m \u001b[1m0s\u001b[0m 5ms/step - accuracy: 0.0000e+00 - loss: 42.0265 - val_accuracy: 0.0000e+00 - val_loss: 25.6921\n",
      "Epoch 44/100\n",
      "\u001b[1m8/8\u001b[0m \u001b[32m━━━━━━━━━━━━━━━━━━━━\u001b[0m\u001b[37m\u001b[0m \u001b[1m0s\u001b[0m 5ms/step - accuracy: 0.0000e+00 - loss: 49.0766 - val_accuracy: 0.0000e+00 - val_loss: 24.7880\n",
      "Epoch 45/100\n",
      "\u001b[1m8/8\u001b[0m \u001b[32m━━━━━━━━━━━━━━━━━━━━\u001b[0m\u001b[37m\u001b[0m \u001b[1m0s\u001b[0m 5ms/step - accuracy: 0.0000e+00 - loss: 43.9120 - val_accuracy: 0.0000e+00 - val_loss: 23.5887\n",
      "Epoch 46/100\n",
      "\u001b[1m8/8\u001b[0m \u001b[32m━━━━━━━━━━━━━━━━━━━━\u001b[0m\u001b[37m\u001b[0m \u001b[1m0s\u001b[0m 6ms/step - accuracy: 0.0000e+00 - loss: 35.7929 - val_accuracy: 0.0000e+00 - val_loss: 22.7178\n",
      "Epoch 47/100\n",
      "\u001b[1m8/8\u001b[0m \u001b[32m━━━━━━━━━━━━━━━━━━━━\u001b[0m\u001b[37m\u001b[0m \u001b[1m0s\u001b[0m 5ms/step - accuracy: 0.0000e+00 - loss: 41.7750 - val_accuracy: 0.0000e+00 - val_loss: 21.6916\n",
      "Epoch 48/100\n",
      "\u001b[1m8/8\u001b[0m \u001b[32m━━━━━━━━━━━━━━━━━━━━\u001b[0m\u001b[37m\u001b[0m \u001b[1m0s\u001b[0m 5ms/step - accuracy: 0.0000e+00 - loss: 43.5615 - val_accuracy: 0.0000e+00 - val_loss: 21.9642\n",
      "Epoch 49/100\n",
      "\u001b[1m8/8\u001b[0m \u001b[32m━━━━━━━━━━━━━━━━━━━━\u001b[0m\u001b[37m\u001b[0m \u001b[1m0s\u001b[0m 5ms/step - accuracy: 0.0000e+00 - loss: 41.1430 - val_accuracy: 0.0000e+00 - val_loss: 22.0206\n",
      "Epoch 50/100\n",
      "\u001b[1m8/8\u001b[0m \u001b[32m━━━━━━━━━━━━━━━━━━━━\u001b[0m\u001b[37m\u001b[0m \u001b[1m0s\u001b[0m 5ms/step - accuracy: 0.0000e+00 - loss: 42.4059 - val_accuracy: 0.0000e+00 - val_loss: 21.1436\n",
      "Epoch 51/100\n",
      "\u001b[1m8/8\u001b[0m \u001b[32m━━━━━━━━━━━━━━━━━━━━\u001b[0m\u001b[37m\u001b[0m \u001b[1m0s\u001b[0m 5ms/step - accuracy: 0.0000e+00 - loss: 37.0274 - val_accuracy: 0.0000e+00 - val_loss: 20.8737\n",
      "Epoch 52/100\n",
      "\u001b[1m8/8\u001b[0m \u001b[32m━━━━━━━━━━━━━━━━━━━━\u001b[0m\u001b[37m\u001b[0m \u001b[1m0s\u001b[0m 5ms/step - accuracy: 0.0000e+00 - loss: 35.3589 - val_accuracy: 0.0000e+00 - val_loss: 21.8772\n",
      "Epoch 53/100\n",
      "\u001b[1m8/8\u001b[0m \u001b[32m━━━━━━━━━━━━━━━━━━━━\u001b[0m\u001b[37m\u001b[0m \u001b[1m0s\u001b[0m 5ms/step - accuracy: 0.0000e+00 - loss: 35.1861 - val_accuracy: 0.0000e+00 - val_loss: 21.2295\n",
      "Epoch 54/100\n",
      "\u001b[1m8/8\u001b[0m \u001b[32m━━━━━━━━━━━━━━━━━━━━\u001b[0m\u001b[37m\u001b[0m \u001b[1m0s\u001b[0m 6ms/step - accuracy: 0.0000e+00 - loss: 37.7701 - val_accuracy: 0.0000e+00 - val_loss: 21.5283\n",
      "Epoch 55/100\n",
      "\u001b[1m8/8\u001b[0m \u001b[32m━━━━━━━━━━━━━━━━━━━━\u001b[0m\u001b[37m\u001b[0m \u001b[1m0s\u001b[0m 5ms/step - accuracy: 0.0000e+00 - loss: 38.2671 - val_accuracy: 0.0000e+00 - val_loss: 21.6889\n",
      "Epoch 56/100\n",
      "\u001b[1m8/8\u001b[0m \u001b[32m━━━━━━━━━━━━━━━━━━━━\u001b[0m\u001b[37m\u001b[0m \u001b[1m0s\u001b[0m 5ms/step - accuracy: 0.0000e+00 - loss: 38.9968 - val_accuracy: 0.0000e+00 - val_loss: 20.8944\n",
      "Epoch 57/100\n",
      "\u001b[1m8/8\u001b[0m \u001b[32m━━━━━━━━━━━━━━━━━━━━\u001b[0m\u001b[37m\u001b[0m \u001b[1m0s\u001b[0m 5ms/step - accuracy: 0.0000e+00 - loss: 34.1285 - val_accuracy: 0.0000e+00 - val_loss: 20.2047\n",
      "Epoch 58/100\n",
      "\u001b[1m8/8\u001b[0m \u001b[32m━━━━━━━━━━━━━━━━━━━━\u001b[0m\u001b[37m\u001b[0m \u001b[1m0s\u001b[0m 5ms/step - accuracy: 0.0000e+00 - loss: 34.1664 - val_accuracy: 0.0000e+00 - val_loss: 20.2900\n",
      "Epoch 59/100\n",
      "\u001b[1m8/8\u001b[0m \u001b[32m━━━━━━━━━━━━━━━━━━━━\u001b[0m\u001b[37m\u001b[0m \u001b[1m0s\u001b[0m 5ms/step - accuracy: 0.0000e+00 - loss: 35.9370 - val_accuracy: 0.0000e+00 - val_loss: 19.6327\n",
      "Epoch 60/100\n",
      "\u001b[1m8/8\u001b[0m \u001b[32m━━━━━━━━━━━━━━━━━━━━\u001b[0m\u001b[37m\u001b[0m \u001b[1m0s\u001b[0m 7ms/step - accuracy: 0.0000e+00 - loss: 40.1818 - val_accuracy: 0.0000e+00 - val_loss: 18.8925\n",
      "Epoch 61/100\n",
      "\u001b[1m8/8\u001b[0m \u001b[32m━━━━━━━━━━━━━━━━━━━━\u001b[0m\u001b[37m\u001b[0m \u001b[1m0s\u001b[0m 5ms/step - accuracy: 0.0000e+00 - loss: 41.7917 - val_accuracy: 0.0000e+00 - val_loss: 19.2338\n",
      "Epoch 62/100\n",
      "\u001b[1m8/8\u001b[0m \u001b[32m━━━━━━━━━━━━━━━━━━━━\u001b[0m\u001b[37m\u001b[0m \u001b[1m0s\u001b[0m 4ms/step - accuracy: 0.0000e+00 - loss: 33.7920 - val_accuracy: 0.0000e+00 - val_loss: 19.6023\n",
      "Epoch 63/100\n",
      "\u001b[1m8/8\u001b[0m \u001b[32m━━━━━━━━━━━━━━━━━━━━\u001b[0m\u001b[37m\u001b[0m \u001b[1m0s\u001b[0m 4ms/step - accuracy: 0.0000e+00 - loss: 31.8736 - val_accuracy: 0.0000e+00 - val_loss: 18.7633\n",
      "Epoch 64/100\n",
      "\u001b[1m8/8\u001b[0m \u001b[32m━━━━━━━━━━━━━━━━━━━━\u001b[0m\u001b[37m\u001b[0m \u001b[1m0s\u001b[0m 5ms/step - accuracy: 0.0000e+00 - loss: 39.9844 - val_accuracy: 0.0000e+00 - val_loss: 18.3042\n",
      "Epoch 65/100\n",
      "\u001b[1m8/8\u001b[0m \u001b[32m━━━━━━━━━━━━━━━━━━━━\u001b[0m\u001b[37m\u001b[0m \u001b[1m0s\u001b[0m 5ms/step - accuracy: 0.0000e+00 - loss: 30.1128 - val_accuracy: 0.0000e+00 - val_loss: 19.0860\n",
      "Epoch 66/100\n",
      "\u001b[1m8/8\u001b[0m \u001b[32m━━━━━━━━━━━━━━━━━━━━\u001b[0m\u001b[37m\u001b[0m \u001b[1m0s\u001b[0m 5ms/step - accuracy: 0.0000e+00 - loss: 40.9909 - val_accuracy: 0.0000e+00 - val_loss: 19.5888\n",
      "Epoch 67/100\n",
      "\u001b[1m8/8\u001b[0m \u001b[32m━━━━━━━━━━━━━━━━━━━━\u001b[0m\u001b[37m\u001b[0m \u001b[1m0s\u001b[0m 5ms/step - accuracy: 0.0000e+00 - loss: 29.7351 - val_accuracy: 0.0000e+00 - val_loss: 18.9636\n",
      "Epoch 68/100\n",
      "\u001b[1m8/8\u001b[0m \u001b[32m━━━━━━━━━━━━━━━━━━━━\u001b[0m\u001b[37m\u001b[0m \u001b[1m0s\u001b[0m 4ms/step - accuracy: 0.0000e+00 - loss: 43.0850 - val_accuracy: 0.0000e+00 - val_loss: 18.1852\n",
      "Epoch 69/100\n",
      "\u001b[1m8/8\u001b[0m \u001b[32m━━━━━━━━━━━━━━━━━━━━\u001b[0m\u001b[37m\u001b[0m \u001b[1m0s\u001b[0m 5ms/step - accuracy: 0.0000e+00 - loss: 38.9383 - val_accuracy: 0.0000e+00 - val_loss: 17.4548\n",
      "Epoch 70/100\n",
      "\u001b[1m8/8\u001b[0m \u001b[32m━━━━━━━━━━━━━━━━━━━━\u001b[0m\u001b[37m\u001b[0m \u001b[1m0s\u001b[0m 5ms/step - accuracy: 0.0000e+00 - loss: 33.1937 - val_accuracy: 0.0000e+00 - val_loss: 17.7960\n",
      "Epoch 71/100\n",
      "\u001b[1m8/8\u001b[0m \u001b[32m━━━━━━━━━━━━━━━━━━━━\u001b[0m\u001b[37m\u001b[0m \u001b[1m0s\u001b[0m 5ms/step - accuracy: 0.0000e+00 - loss: 33.8170 - val_accuracy: 0.0000e+00 - val_loss: 19.5283\n",
      "Epoch 72/100\n",
      "\u001b[1m8/8\u001b[0m \u001b[32m━━━━━━━━━━━━━━━━━━━━\u001b[0m\u001b[37m\u001b[0m \u001b[1m0s\u001b[0m 5ms/step - accuracy: 0.0000e+00 - loss: 35.2376 - val_accuracy: 0.0000e+00 - val_loss: 19.1320\n",
      "Epoch 73/100\n",
      "\u001b[1m8/8\u001b[0m \u001b[32m━━━━━━━━━━━━━━━━━━━━\u001b[0m\u001b[37m\u001b[0m \u001b[1m0s\u001b[0m 5ms/step - accuracy: 0.0000e+00 - loss: 45.4136 - val_accuracy: 0.0000e+00 - val_loss: 16.9785\n",
      "Epoch 74/100\n",
      "\u001b[1m8/8\u001b[0m \u001b[32m━━━━━━━━━━━━━━━━━━━━\u001b[0m\u001b[37m\u001b[0m \u001b[1m0s\u001b[0m 5ms/step - accuracy: 0.0000e+00 - loss: 22.9196 - val_accuracy: 0.0000e+00 - val_loss: 17.3707\n",
      "Epoch 75/100\n",
      "\u001b[1m8/8\u001b[0m \u001b[32m━━━━━━━━━━━━━━━━━━━━\u001b[0m\u001b[37m\u001b[0m \u001b[1m0s\u001b[0m 5ms/step - accuracy: 0.0000e+00 - loss: 30.3228 - val_accuracy: 0.0000e+00 - val_loss: 17.2736\n",
      "Epoch 76/100\n",
      "\u001b[1m8/8\u001b[0m \u001b[32m━━━━━━━━━━━━━━━━━━━━\u001b[0m\u001b[37m\u001b[0m \u001b[1m0s\u001b[0m 5ms/step - accuracy: 0.0000e+00 - loss: 27.4552 - val_accuracy: 0.0000e+00 - val_loss: 17.2925\n",
      "Epoch 77/100\n",
      "\u001b[1m8/8\u001b[0m \u001b[32m━━━━━━━━━━━━━━━━━━━━\u001b[0m\u001b[37m\u001b[0m \u001b[1m0s\u001b[0m 5ms/step - accuracy: 0.0000e+00 - loss: 32.9510 - val_accuracy: 0.0000e+00 - val_loss: 16.6056\n",
      "Epoch 78/100\n",
      "\u001b[1m8/8\u001b[0m \u001b[32m━━━━━━━━━━━━━━━━━━━━\u001b[0m\u001b[37m\u001b[0m \u001b[1m0s\u001b[0m 6ms/step - accuracy: 0.0000e+00 - loss: 32.1852 - val_accuracy: 0.0000e+00 - val_loss: 17.3915\n",
      "Epoch 79/100\n",
      "\u001b[1m8/8\u001b[0m \u001b[32m━━━━━━━━━━━━━━━━━━━━\u001b[0m\u001b[37m\u001b[0m \u001b[1m0s\u001b[0m 5ms/step - accuracy: 0.0000e+00 - loss: 34.4185 - val_accuracy: 0.0000e+00 - val_loss: 17.5377\n",
      "Epoch 80/100\n",
      "\u001b[1m8/8\u001b[0m \u001b[32m━━━━━━━━━━━━━━━━━━━━\u001b[0m\u001b[37m\u001b[0m \u001b[1m0s\u001b[0m 6ms/step - accuracy: 0.0000e+00 - loss: 36.6280 - val_accuracy: 0.0000e+00 - val_loss: 17.1050\n",
      "Epoch 81/100\n",
      "\u001b[1m8/8\u001b[0m \u001b[32m━━━━━━━━━━━━━━━━━━━━\u001b[0m\u001b[37m\u001b[0m \u001b[1m0s\u001b[0m 6ms/step - accuracy: 0.0000e+00 - loss: 31.5856 - val_accuracy: 0.0000e+00 - val_loss: 15.6781\n",
      "Epoch 82/100\n",
      "\u001b[1m8/8\u001b[0m \u001b[32m━━━━━━━━━━━━━━━━━━━━\u001b[0m\u001b[37m\u001b[0m \u001b[1m0s\u001b[0m 6ms/step - accuracy: 0.0000e+00 - loss: 31.1735 - val_accuracy: 0.0000e+00 - val_loss: 15.2313\n",
      "Epoch 83/100\n",
      "\u001b[1m8/8\u001b[0m \u001b[32m━━━━━━━━━━━━━━━━━━━━\u001b[0m\u001b[37m\u001b[0m \u001b[1m0s\u001b[0m 5ms/step - accuracy: 0.0000e+00 - loss: 29.6116 - val_accuracy: 0.0000e+00 - val_loss: 15.1555\n",
      "Epoch 84/100\n",
      "\u001b[1m8/8\u001b[0m \u001b[32m━━━━━━━━━━━━━━━━━━━━\u001b[0m\u001b[37m\u001b[0m \u001b[1m0s\u001b[0m 5ms/step - accuracy: 0.0000e+00 - loss: 30.3405 - val_accuracy: 0.0000e+00 - val_loss: 15.2459\n",
      "Epoch 85/100\n",
      "\u001b[1m8/8\u001b[0m \u001b[32m━━━━━━━━━━━━━━━━━━━━\u001b[0m\u001b[37m\u001b[0m \u001b[1m0s\u001b[0m 5ms/step - accuracy: 0.0000e+00 - loss: 32.2704 - val_accuracy: 0.0000e+00 - val_loss: 15.9612\n",
      "Epoch 86/100\n",
      "\u001b[1m8/8\u001b[0m \u001b[32m━━━━━━━━━━━━━━━━━━━━\u001b[0m\u001b[37m\u001b[0m \u001b[1m0s\u001b[0m 6ms/step - accuracy: 0.0000e+00 - loss: 30.0105 - val_accuracy: 0.0000e+00 - val_loss: 16.4121\n",
      "Epoch 87/100\n",
      "\u001b[1m8/8\u001b[0m \u001b[32m━━━━━━━━━━━━━━━━━━━━\u001b[0m\u001b[37m\u001b[0m \u001b[1m0s\u001b[0m 5ms/step - accuracy: 0.0000e+00 - loss: 30.2470 - val_accuracy: 0.0000e+00 - val_loss: 15.8861\n",
      "Epoch 88/100\n",
      "\u001b[1m8/8\u001b[0m \u001b[32m━━━━━━━━━━━━━━━━━━━━\u001b[0m\u001b[37m\u001b[0m \u001b[1m0s\u001b[0m 5ms/step - accuracy: 0.0000e+00 - loss: 28.9338 - val_accuracy: 0.0000e+00 - val_loss: 15.2324\n",
      "Epoch 89/100\n",
      "\u001b[1m8/8\u001b[0m \u001b[32m━━━━━━━━━━━━━━━━━━━━\u001b[0m\u001b[37m\u001b[0m \u001b[1m0s\u001b[0m 4ms/step - accuracy: 0.0000e+00 - loss: 32.1413 - val_accuracy: 0.0000e+00 - val_loss: 15.2657\n",
      "Epoch 90/100\n",
      "\u001b[1m8/8\u001b[0m \u001b[32m━━━━━━━━━━━━━━━━━━━━\u001b[0m\u001b[37m\u001b[0m \u001b[1m0s\u001b[0m 5ms/step - accuracy: 0.0000e+00 - loss: 33.2470 - val_accuracy: 0.0000e+00 - val_loss: 15.1221\n",
      "Epoch 91/100\n",
      "\u001b[1m8/8\u001b[0m \u001b[32m━━━━━━━━━━━━━━━━━━━━\u001b[0m\u001b[37m\u001b[0m \u001b[1m0s\u001b[0m 5ms/step - accuracy: 0.0000e+00 - loss: 28.3143 - val_accuracy: 0.0000e+00 - val_loss: 15.8794\n",
      "Epoch 92/100\n",
      "\u001b[1m8/8\u001b[0m \u001b[32m━━━━━━━━━━━━━━━━━━━━\u001b[0m\u001b[37m\u001b[0m \u001b[1m0s\u001b[0m 5ms/step - accuracy: 0.0000e+00 - loss: 32.5550 - val_accuracy: 0.0000e+00 - val_loss: 15.7008\n",
      "Epoch 93/100\n",
      "\u001b[1m8/8\u001b[0m \u001b[32m━━━━━━━━━━━━━━━━━━━━\u001b[0m\u001b[37m\u001b[0m \u001b[1m0s\u001b[0m 5ms/step - accuracy: 0.0000e+00 - loss: 30.4661 - val_accuracy: 0.0000e+00 - val_loss: 15.6911\n",
      "Epoch 94/100\n",
      "\u001b[1m8/8\u001b[0m \u001b[32m━━━━━━━━━━━━━━━━━━━━\u001b[0m\u001b[37m\u001b[0m \u001b[1m0s\u001b[0m 5ms/step - accuracy: 0.0000e+00 - loss: 28.4072 - val_accuracy: 0.0000e+00 - val_loss: 15.2969\n",
      "Epoch 95/100\n",
      "\u001b[1m8/8\u001b[0m \u001b[32m━━━━━━━━━━━━━━━━━━━━\u001b[0m\u001b[37m\u001b[0m \u001b[1m0s\u001b[0m 5ms/step - accuracy: 0.0000e+00 - loss: 24.3947 - val_accuracy: 0.0000e+00 - val_loss: 15.1924\n",
      "Epoch 96/100\n",
      "\u001b[1m8/8\u001b[0m \u001b[32m━━━━━━━━━━━━━━━━━━━━\u001b[0m\u001b[37m\u001b[0m \u001b[1m0s\u001b[0m 5ms/step - accuracy: 0.0000e+00 - loss: 31.4213 - val_accuracy: 0.0000e+00 - val_loss: 14.7516\n",
      "Epoch 97/100\n",
      "\u001b[1m8/8\u001b[0m \u001b[32m━━━━━━━━━━━━━━━━━━━━\u001b[0m\u001b[37m\u001b[0m \u001b[1m0s\u001b[0m 6ms/step - accuracy: 0.0000e+00 - loss: 29.6972 - val_accuracy: 0.0000e+00 - val_loss: 15.2054\n",
      "Epoch 98/100\n",
      "\u001b[1m8/8\u001b[0m \u001b[32m━━━━━━━━━━━━━━━━━━━━\u001b[0m\u001b[37m\u001b[0m \u001b[1m0s\u001b[0m 4ms/step - accuracy: 0.0000e+00 - loss: 29.3912 - val_accuracy: 0.0000e+00 - val_loss: 16.0227\n",
      "Epoch 99/100\n",
      "\u001b[1m8/8\u001b[0m \u001b[32m━━━━━━━━━━━━━━━━━━━━\u001b[0m\u001b[37m\u001b[0m \u001b[1m0s\u001b[0m 5ms/step - accuracy: 0.0000e+00 - loss: 29.0754 - val_accuracy: 0.0000e+00 - val_loss: 16.6007\n",
      "Epoch 100/100\n",
      "\u001b[1m8/8\u001b[0m \u001b[32m━━━━━━━━━━━━━━━━━━━━\u001b[0m\u001b[37m\u001b[0m \u001b[1m0s\u001b[0m 5ms/step - accuracy: 0.0000e+00 - loss: 32.3250 - val_accuracy: 0.0000e+00 - val_loss: 14.9619\n"
     ]
    },
    {
     "data": {
      "text/plain": [
       "<keras.src.callbacks.history.History at 0x7f0760118910>"
      ]
     },
     "execution_count": 146,
     "metadata": {},
     "output_type": "execute_result"
    }
   ],
   "source": [
    "#train the model\n",
    "model_ann.fit(X_train, y_train, epochs=100, validation_data=(X_test, y_test))"
   ]
  },
  {
   "cell_type": "markdown",
   "id": "bba8323e-7e85-4a6e-aaf6-90491aaa1325",
   "metadata": {},
   "source": [
    "## 4. Model Evaluation and Performance Comparison"
   ]
  },
  {
   "cell_type": "markdown",
   "id": "d9c7f423-96eb-45b2-b941-f6f9eafce105",
   "metadata": {},
   "source": [
    "Comparing the performance with using R2 and Root Mean Squared Error (RMSE)."
   ]
  },
  {
   "cell_type": "markdown",
   "id": "4574503f-6211-4796-993d-0344981dfaa3",
   "metadata": {},
   "source": [
    "### 4.1. E. Linear Regression (LR)"
   ]
  },
  {
   "cell_type": "code",
   "execution_count": 147,
   "id": "93217b1d-1df0-4430-a461-574cc608adae",
   "metadata": {},
   "outputs": [
    {
     "name": "stdout",
     "output_type": "stream",
     "text": [
      "Training R^2: 0.7965\n",
      "Test R^2: 0.7977\n",
      "Training RMSE: 3.4311\n",
      "Test RMSE: 3.5609\n"
     ]
    }
   ],
   "source": [
    "train_predictions = model_lr.predict(X_train)\n",
    "test_predictions = model_lr.predict(X_test)\n",
    "\n",
    "r2_train_lr = r2_score(y_train, train_predictions)\n",
    "r2_test_lr = r2_score(y_test, test_predictions)\n",
    "\n",
    "rmse_train_lr = mean_squared_error(y_train, train_predictions, squared=False)\n",
    "rmse_test_lr = mean_squared_error(y_test, test_predictions, squared=False)\n",
    "\n",
    "print(f\"Training R^2: {r2_train_lr:.4f}\")\n",
    "print(f\"Test R^2: {r2_test_lr:.4f}\")\n",
    "print(f\"Training RMSE: {rmse_train_lr:.4f}\")\n",
    "print(f\"Test RMSE: {rmse_test_lr:.4f}\")"
   ]
  },
  {
   "cell_type": "markdown",
   "id": "79c518cc-bd17-4cff-9bdb-fa63a0c872c4",
   "metadata": {},
   "source": [
    "### 4.2. E. Random Forest Regressor (RF)"
   ]
  },
  {
   "cell_type": "code",
   "execution_count": 148,
   "id": "95c4e27c-f683-40cd-9f1d-e29750eab885",
   "metadata": {},
   "outputs": [
    {
     "name": "stdout",
     "output_type": "stream",
     "text": [
      "R2 on the training data:\n",
      "0.9688517783796329\n",
      "R2 on the testing data:\n",
      "0.8370134081603526\n"
     ]
    }
   ],
   "source": [
    "r2_train_rf = rf_final.score(X=X_train, y=y_train)\n",
    "r2_test_rf = rf_final.score(X=X_test, y=y_test)\n",
    "\n",
    "print(\"R2 on the training data:\")\n",
    "print(r2_train_rf)\n",
    "print(\"R2 on the testing data:\")\n",
    "print(r2_test_rf)"
   ]
  },
  {
   "cell_type": "code",
   "execution_count": 149,
   "id": "e1dd46eb-221a-4e4b-9f5b-c5e7311b3fb5",
   "metadata": {},
   "outputs": [
    {
     "name": "stdout",
     "output_type": "stream",
     "text": [
      "RMSE on the training data:\n",
      "1.3425104723153702\n",
      "RMSE on the testing data:\n",
      "3.196618497059926\n"
     ]
    }
   ],
   "source": [
    "rmse_train_rf = mean_squared_error(y_train, rf_final.predict(X_train), squared=False)\n",
    "rmse_test_rf = mean_squared_error(y_test, rf_final.predict(X_test), squared=False)\n",
    "\n",
    "print(\"RMSE on the training data:\")\n",
    "print(rmse_train_rf)\n",
    "print(\"RMSE on the testing data:\")\n",
    "print(rmse_test_rf)"
   ]
  },
  {
   "cell_type": "code",
   "execution_count": 150,
   "id": "c4c1e5d6-cefa-488b-b717-897de4db211b",
   "metadata": {},
   "outputs": [
    {
     "name": "stdout",
     "output_type": "stream",
     "text": [
      "                                        Importance\n",
      "Feature                                           \n",
      "NDVI                                        0.4985\n",
      "ET                                          0.3073\n",
      "PA                                          0.0500\n",
      "LST_DAY                                     0.0366\n",
      "LST_NIGHT                                   0.0193\n",
      "PAR                                         0.0123\n"
     ]
    },
    {
     "data": {
      "image/png": "[encoded data removed]",
      "text/plain": [
       "<Figure size 400x150 with 1 Axes>"
      ]
     },
     "metadata": {},
     "output_type": "display_data"
    }
   ],
   "source": [
    "# Calculate and plot the feature importance of the RF model\n",
    "imp = rfpimp.importances(rf_final, X_test, y_test)\n",
    "print(imp)\n",
    "viz = rfpimp.plot_importances(imp)\n",
    "viz.view()"
   ]
  },
  {
   "cell_type": "markdown",
   "id": "3aae0752-c935-403f-9c7c-e371d95d4672",
   "metadata": {},
   "source": [
    "### 4.3. E. Gradient Boosting Regressor (XGB)"
   ]
  },
  {
   "cell_type": "code",
   "execution_count": 151,
   "id": "badc2142-44df-40cf-bc4c-5c10cdd338eb",
   "metadata": {},
   "outputs": [
    {
     "data": {
      "text/html": [
       "<style>#sk-container-id-15 {color: black;}#sk-container-id-15 pre{padding: 0;}#sk-container-id-15 div.sk-toggleable {background-color: white;}#sk-container-id-15 label.sk-toggleable__label {cursor: pointer;display: block;width: 100%;margin-bottom: 0;padding: 0.3em;box-sizing: border-box;text-align: center;}#sk-container-id-15 label.sk-toggleable__label-arrow:before {content: \"▸\";float: left;margin-right: 0.25em;color: #696969;}#sk-container-id-15 label.sk-toggleable__label-arrow:hover:before {color: black;}#sk-container-id-15 div.sk-estimator:hover label.sk-toggleable__label-arrow:before {color: black;}#sk-container-id-15 div.sk-toggleable__content {max-height: 0;max-width: 0;overflow: hidden;text-align: left;background-color: #f0f8ff;}#sk-container-id-15 div.sk-toggleable__content pre {margin: 0.2em;color: black;border-radius: 0.25em;background-color: #f0f8ff;}#sk-container-id-15 input.sk-toggleable__control:checked~div.sk-toggleable__content {max-height: 200px;max-width: 100%;overflow: auto;}#sk-container-id-15 input.sk-toggleable__control:checked~label.sk-toggleable__label-arrow:before {content: \"▾\";}#sk-container-id-15 div.sk-estimator input.sk-toggleable__control:checked~label.sk-toggleable__label {background-color: #d4ebff;}#sk-container-id-15 div.sk-label input.sk-toggleable__control:checked~label.sk-toggleable__label {background-color: #d4ebff;}#sk-container-id-15 input.sk-hidden--visually {border: 0;clip: rect(1px 1px 1px 1px);clip: rect(1px, 1px, 1px, 1px);height: 1px;margin: -1px;overflow: hidden;padding: 0;position: absolute;width: 1px;}#sk-container-id-15 div.sk-estimator {font-family: monospace;background-color: #f0f8ff;border: 1px dotted black;border-radius: 0.25em;box-sizing: border-box;margin-bottom: 0.5em;}#sk-container-id-15 div.sk-estimator:hover {background-color: #d4ebff;}#sk-container-id-15 div.sk-parallel-item::after {content: \"\";width: 100%;border-bottom: 1px solid gray;flex-grow: 1;}#sk-container-id-15 div.sk-label:hover label.sk-toggleable__label {background-color: #d4ebff;}#sk-container-id-15 div.sk-serial::before {content: \"\";position: absolute;border-left: 1px solid gray;box-sizing: border-box;top: 0;bottom: 0;left: 50%;z-index: 0;}#sk-container-id-15 div.sk-serial {display: flex;flex-direction: column;align-items: center;background-color: white;padding-right: 0.2em;padding-left: 0.2em;position: relative;}#sk-container-id-15 div.sk-item {position: relative;z-index: 1;}#sk-container-id-15 div.sk-parallel {display: flex;align-items: stretch;justify-content: center;background-color: white;position: relative;}#sk-container-id-15 div.sk-item::before, #sk-container-id-15 div.sk-parallel-item::before {content: \"\";position: absolute;border-left: 1px solid gray;box-sizing: border-box;top: 0;bottom: 0;left: 50%;z-index: -1;}#sk-container-id-15 div.sk-parallel-item {display: flex;flex-direction: column;z-index: 1;position: relative;background-color: white;}#sk-container-id-15 div.sk-parallel-item:first-child::after {align-self: flex-end;width: 50%;}#sk-container-id-15 div.sk-parallel-item:last-child::after {align-self: flex-start;width: 50%;}#sk-container-id-15 div.sk-parallel-item:only-child::after {width: 0;}#sk-container-id-15 div.sk-dashed-wrapped {border: 1px dashed gray;margin: 0 0.4em 0.5em 0.4em;box-sizing: border-box;padding-bottom: 0.4em;background-color: white;}#sk-container-id-15 div.sk-label label {font-family: monospace;font-weight: bold;display: inline-block;line-height: 1.2em;}#sk-container-id-15 div.sk-label-container {text-align: center;}#sk-container-id-15 div.sk-container {/* jupyter's `normalize.less` sets `[hidden] { display: none; }` but bootstrap.min.css set `[hidden] { display: none !important; }` so we also need the `!important` here to be able to override the default hidden behavior on the sphinx rendered scikit-learn.org. See: https://github.com/scikit-learn/scikit-learn/issues/21755 */display: inline-block !important;position: relative;}#sk-container-id-15 div.sk-text-repr-fallback {display: none;}</style><div id=\"sk-container-id-15\" class=\"sk-top-container\"><div class=\"sk-text-repr-fallback\"><pre>XGBRegressor(base_score=None, booster=None, callbacks=None,\n",
       "             colsample_bylevel=None, colsample_bynode=None,\n",
       "             colsample_bytree=None, device=None, early_stopping_rounds=None,\n",
       "             enable_categorical=False, eval_metric=None, feature_types=None,\n",
       "             gamma=None, grow_policy=None, importance_type=None,\n",
       "             interaction_constraints=None, learning_rate=None, max_bin=None,\n",
       "             max_cat_threshold=None, max_cat_to_onehot=None,\n",
       "             max_delta_step=None, max_depth=2, max_leaves=None,\n",
       "             min_child_weight=None, missing=nan, monotone_constraints=None,\n",
       "             multi_strategy=None, n_estimators=20, n_jobs=None,\n",
       "             num_parallel_tree=None, random_state=125, ...)</pre><b>In a Jupyter environment, please rerun this cell to show the HTML representation or trust the notebook. <br />On GitHub, the HTML representation is unable to render, please try loading this page with nbviewer.org.</b></div><div class=\"sk-container\" hidden><div class=\"sk-item\"><div class=\"sk-estimator sk-toggleable\"><input class=\"sk-toggleable__control sk-hidden--visually\" id=\"sk-estimator-id-15\" type=\"checkbox\" checked><label for=\"sk-estimator-id-15\" class=\"sk-toggleable__label sk-toggleable__label-arrow\">XGBRegressor</label><div class=\"sk-toggleable__content\"><pre>XGBRegressor(base_score=None, booster=None, callbacks=None,\n",
       "             colsample_bylevel=None, colsample_bynode=None,\n",
       "             colsample_bytree=None, device=None, early_stopping_rounds=None,\n",
       "             enable_categorical=False, eval_metric=None, feature_types=None,\n",
       "             gamma=None, grow_policy=None, importance_type=None,\n",
       "             interaction_constraints=None, learning_rate=None, max_bin=None,\n",
       "             max_cat_threshold=None, max_cat_to_onehot=None,\n",
       "             max_delta_step=None, max_depth=2, max_leaves=None,\n",
       "             min_child_weight=None, missing=nan, monotone_constraints=None,\n",
       "             multi_strategy=None, n_estimators=20, n_jobs=None,\n",
       "             num_parallel_tree=None, random_state=125, ...)</pre></div></div></div></div></div>"
      ],
      "text/plain": [
       "XGBRegressor(base_score=None, booster=None, callbacks=None,\n",
       "             colsample_bylevel=None, colsample_bynode=None,\n",
       "             colsample_bytree=None, device=None, early_stopping_rounds=None,\n",
       "             enable_categorical=False, eval_metric=None, feature_types=None,\n",
       "             gamma=None, grow_policy=None, importance_type=None,\n",
       "             interaction_constraints=None, learning_rate=None, max_bin=None,\n",
       "             max_cat_threshold=None, max_cat_to_onehot=None,\n",
       "             max_delta_step=None, max_depth=2, max_leaves=None,\n",
       "             min_child_weight=None, missing=nan, monotone_constraints=None,\n",
       "             multi_strategy=None, n_estimators=20, n_jobs=None,\n",
       "             num_parallel_tree=None, random_state=125, ...)"
      ]
     },
     "execution_count": 151,
     "metadata": {},
     "output_type": "execute_result"
    }
   ],
   "source": [
    "model_xgb = XGBRegressor(max_depth=gscv_xgb.best_params_['max_depth'], n_estimators=gscv_xgb.best_params_['n_estimators'], random_state=randomState_xgb)\n",
    "model_xgb.fit(X_train, y_train)\n"
   ]
  },
  {
   "cell_type": "code",
   "execution_count": 152,
   "id": "8c46c7cc-7f26-4c96-8a2b-e7325f98bc51",
   "metadata": {},
   "outputs": [],
   "source": [
    "# r2_train_xgb, r2_test_xgb, rmse_train_xgb, rmse_test_xgb\n",
    "r2_train_xgb = model_xgb.score(X=X_train, y=y_train)\n",
    "r2_test_xgb = model_xgb.score(X=X_test, y=y_test)\n",
    "rmse_train_xgb = mean_squared_error(y_train, model_xgb.predict(X_train), squared=False)\n",
    "rmse_test_xgb = mean_squared_error(y_test, model_xgb.predict(X_test), squared=False)"
   ]
  },
  {
   "cell_type": "code",
   "execution_count": 153,
   "id": "598466e5-7e3e-4359-b2ee-3d108086d3ae",
   "metadata": {},
   "outputs": [
    {
     "name": "stdout",
     "output_type": "stream",
     "text": [
      "R2 on the training data:\n",
      "0.9100252787798567\n",
      "R2 on the testing data:\n",
      "0.8426691231672218\n"
     ]
    }
   ],
   "source": [
    "print(\"R2 on the training data:\")\n",
    "print(r2_train_xgb)\n",
    "print(\"R2 on the testing data:\")\n",
    "print(r2_test_xgb)"
   ]
  },
  {
   "cell_type": "code",
   "execution_count": 154,
   "id": "436c36c4-b91c-4b74-b98a-316f77deae0e",
   "metadata": {},
   "outputs": [
    {
     "name": "stdout",
     "output_type": "stream",
     "text": [
      "RMSE on the training data:\n",
      "2.281714534929037\n",
      "RMSE on the testing data:\n",
      "3.14066670480111\n"
     ]
    }
   ],
   "source": [
    "print(\"RMSE on the training data:\")\n",
    "print(rmse_train_xgb)\n",
    "print(\"RMSE on the testing data:\")\n",
    "print(rmse_test_xgb)"
   ]
  },
  {
   "cell_type": "code",
   "execution_count": 155,
   "id": "ab509e12-a31f-4bf5-aec4-8839143b4721",
   "metadata": {},
   "outputs": [
    {
     "name": "stdout",
     "output_type": "stream",
     "text": [
      "                                        Importance\n",
      "Feature                                           \n",
      "NDVI                                        0.4580\n",
      "ET                                          0.3588\n",
      "LST_NIGHT                                   0.0464\n",
      "PA                                          0.0407\n",
      "LST_DAY                                     0.0358\n",
      "PAR                                         0.0213\n"
     ]
    },
    {
     "data": {
      "image/png": "[encoded data removed]",
      "text/plain": [
       "<Figure size 400x150 with 1 Axes>"
      ]
     },
     "metadata": {},
     "output_type": "display_data"
    }
   ],
   "source": [
    "imp_xgb = rfpimp.importances(model_xgb, X_test, y_test) # permutation\n",
    "print(imp_xgb)\n",
    "viz_xgb = rfpimp.plot_importances(imp_xgb)\n",
    "viz_xgb.view()"
   ]
  },
  {
   "cell_type": "markdown",
   "id": "2a44c643-4844-4aa2-8b46-19e15d2b3f63",
   "metadata": {},
   "source": [
    "### 4.4. E. Artificial Neural Network (ANN)"
   ]
  },
  {
   "cell_type": "code",
   "execution_count": 156,
   "id": "a1f9784a-2d9b-4ba9-abfd-9e7f6a5157ea",
   "metadata": {},
   "outputs": [
    {
     "name": "stdout",
     "output_type": "stream",
     "text": [
      "\u001b[1m8/8\u001b[0m \u001b[32m━━━━━━━━━━━━━━━━━━━━\u001b[0m\u001b[37m\u001b[0m \u001b[1m0s\u001b[0m 5ms/step \n",
      "\u001b[1m3/3\u001b[0m \u001b[32m━━━━━━━━━━━━━━━━━━━━\u001b[0m\u001b[37m\u001b[0m \u001b[1m0s\u001b[0m 2ms/step \n",
      "Train R2: 0.82\n",
      "Test R2: 0.8\n",
      "Train RMSE: 3.2\n",
      "Test RMSE: 3.55\n"
     ]
    }
   ],
   "source": [
    "#predictions\n",
    "y_pred_train_ann = model_ann.predict(X_train).flatten()\n",
    "y_pred_test_ann = model_ann.predict(X_test).flatten()\n",
    "\n",
    "#Compute R2 and RMSE\n",
    "r2_train_ann = np.round(r2_score(y_train, y_pred_train_ann),2)\n",
    "r2_test_ann = np.round(r2_score(y_test, y_pred_test_ann),2)\n",
    "rmse_train_ann = np.round(np.sqrt(mean_squared_error(y_train, y_pred_train_ann)),2)\n",
    "rmse_test_ann = np.round(np.sqrt(mean_squared_error(y_test, y_pred_test_ann)),2)\n",
    "\n",
    "#print the result\n",
    "print(\"Train R2:\", r2_train_ann)\n",
    "print(\"Test R2:\", r2_test_ann)\n",
    "print(\"Train RMSE:\", rmse_train_ann)\n",
    "print(\"Test RMSE:\", rmse_test_ann)"
   ]
  },
  {
   "cell_type": "code",
   "execution_count": 157,
   "id": "b8c8b24e-d1e7-43c0-a324-4e3b3d56aacc",
   "metadata": {},
   "outputs": [
    {
     "data": {
      "image/png": "[encoded data removed]",
      "text/plain": [
       "<Figure size 640x480 with 1 Axes>"
      ]
     },
     "metadata": {},
     "output_type": "display_data"
    }
   ],
   "source": [
    "#crosscheck the y value between real and predicted\n",
    "crosscheck_y_dict = {\n",
    "    'y_test' : y_test,\n",
    "    'y_pred' : np.round(y_pred_test_ann,0),\n",
    "    'delta' : np.abs(np.round((y_test - y_pred_test_ann),0))\n",
    "}\n",
    "\n",
    "#plotting histogram\n",
    "crosscheck_y_df = pd.DataFrame(crosscheck_y_dict)\n",
    "plt.hist(crosscheck_y_df['delta'], bins=10)\n",
    "plt.xlabel(f'Delta\\nR2_test = {r2_test_ann}, RMSE_test = {rmse_test_ann}, delta_max = {crosscheck_y_df.delta.max()}')\n",
    "plt.ylabel('Frequency (Number of Data)')\n",
    "plt.title(f\"Accuracy of ANN Model Based on Delta of Y Test and Y Pred)\")\n",
    "plt.show()"
   ]
  },
  {
   "cell_type": "markdown",
   "id": "f30269a6-3941-4d29-ad62-f0e8d8957b97",
   "metadata": {},
   "source": [
    "### 4.5. Model Performance Comparison"
   ]
  },
  {
   "cell_type": "code",
   "execution_count": 158,
   "id": "138bc492-857b-4cfc-95f5-c7758415d45d",
   "metadata": {},
   "outputs": [
    {
     "data": {
      "text/html": [
       "<div>\n",
       "<style scoped>\n",
       "    .dataframe tbody tr th:only-of-type {\n",
       "        vertical-align: middle;\n",
       "    }\n",
       "\n",
       "    .dataframe tbody tr th {\n",
       "        vertical-align: top;\n",
       "    }\n",
       "\n",
       "    .dataframe thead th {\n",
       "        text-align: right;\n",
       "    }\n",
       "</style>\n",
       "<table border=\"1\" class=\"dataframe\">\n",
       "  <thead>\n",
       "    <tr style=\"text-align: right;\">\n",
       "      <th></th>\n",
       "      <th>LR</th>\n",
       "      <th>RF</th>\n",
       "      <th>XGB</th>\n",
       "      <th>ANN</th>\n",
       "    </tr>\n",
       "    <tr>\n",
       "      <th>metrics</th>\n",
       "      <th></th>\n",
       "      <th></th>\n",
       "      <th></th>\n",
       "      <th></th>\n",
       "    </tr>\n",
       "  </thead>\n",
       "  <tbody>\n",
       "    <tr>\n",
       "      <th>Train R2</th>\n",
       "      <td>0.7965</td>\n",
       "      <td>0.9689</td>\n",
       "      <td>0.9100</td>\n",
       "      <td>0.8200</td>\n",
       "    </tr>\n",
       "    <tr>\n",
       "      <th>Test R2</th>\n",
       "      <td>0.7977</td>\n",
       "      <td>0.8370</td>\n",
       "      <td>0.8427</td>\n",
       "      <td>0.8000</td>\n",
       "    </tr>\n",
       "    <tr>\n",
       "      <th>Train RMSE</th>\n",
       "      <td>3.4311</td>\n",
       "      <td>1.3425</td>\n",
       "      <td>2.2817</td>\n",
       "      <td>3.2000</td>\n",
       "    </tr>\n",
       "    <tr>\n",
       "      <th>Test RMSE</th>\n",
       "      <td>3.5609</td>\n",
       "      <td>3.1966</td>\n",
       "      <td>3.1407</td>\n",
       "      <td>3.5500</td>\n",
       "    </tr>\n",
       "  </tbody>\n",
       "</table>\n",
       "</div>"
      ],
      "text/plain": [
       "                                                 LR  \\\n",
       "metrics                                               \n",
       "Train R2                                     0.7965   \n",
       "Test R2                                      0.7977   \n",
       "Train RMSE                                   3.4311   \n",
       "Test RMSE                                    3.5609   \n",
       "\n",
       "                                                 RF  \\\n",
       "metrics                                               \n",
       "Train R2                                     0.9689   \n",
       "Test R2                                      0.8370   \n",
       "Train RMSE                                   1.3425   \n",
       "Test RMSE                                    3.1966   \n",
       "\n",
       "                                                XGB  \\\n",
       "metrics                                               \n",
       "Train R2                                     0.9100   \n",
       "Test R2                                      0.8427   \n",
       "Train RMSE                                   2.2817   \n",
       "Test RMSE                                    3.1407   \n",
       "\n",
       "                                                ANN  \n",
       "metrics                                              \n",
       "Train R2                                     0.8200  \n",
       "Test R2                                      0.8000  \n",
       "Train RMSE                                   3.2000  \n",
       "Test RMSE                                    3.5500  "
      ]
     },
     "execution_count": 158,
     "metadata": {},
     "output_type": "execute_result"
    }
   ],
   "source": [
    "#please input your metrics in here\n",
    "metrics_dict = {\n",
    "    'metrics': [\"Train R2\",\"Test R2\",\"Train RMSE\",\"Test RMSE\"],\n",
    "    'LR': [r2_train_lr, r2_test_lr, rmse_train_lr, rmse_test_lr],\n",
    "    'RF': [r2_train_rf, r2_test_rf, rmse_train_rf, rmse_test_rf],\n",
    "    'XGB': [r2_train_xgb, r2_test_xgb, rmse_train_xgb, rmse_test_xgb],\n",
    "    'ANN': [r2_train_ann, r2_test_ann, rmse_train_ann, rmse_test_ann]\n",
    "}\n",
    "\n",
    "#create dataframe\n",
    "metrics_df = pd.DataFrame(metrics_dict)\n",
    "metrics_df.set_index('metrics')"
   ]
  },
  {
   "cell_type": "markdown",
   "id": "ce937232-5aa5-47fb-ba95-79eb82cefff6",
   "metadata": {},
   "source": [
    "Based on the comparison, it can be said that the best model that can be used for estimating crop yield is []. From this point, [] model would be used for estimation phase (step 5)."
   ]
  },
  {
   "cell_type": "markdown",
   "id": "4f47dec9-a587-4e57-b4a6-d1a5493a6cb5",
   "metadata": {},
   "source": [
    "## 5. Crop Yield Estimation and Export Result"
   ]
  },
  {
   "cell_type": "code",
   "execution_count": null,
   "id": "c00bb9b8-8362-4eb5-bf55-67e1143b2dec",
   "metadata": {},
   "outputs": [],
   "source": []
  }
 ],
 "metadata": {
  "kernelspec": {
   "display_name": "Python 3 (ipykernel)",
   "language": "python",
   "name": "python3"
  },
  "language_info": {
   "codemirror_mode": {
    "name": "ipython",
    "version": 3
   },
   "file_extension": ".py",
   "mimetype": "text/x-python",
   "name": "python",
   "nbconvert_exporter": "python",
   "pygments_lexer": "ipython3",
   "version": "3.11.5"
  }
 },
 "nbformat": 4,
 "nbformat_minor": 5
}
