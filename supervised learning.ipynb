{
 "cells": [
  {
   "cell_type": "markdown",
   "id": "a1a6eb75-3ddd-4c1d-8f75-82f5acf1a1f3",
   "metadata": {},
   "source": [
    "# Big Data Application: Modeling for Crop Yield Estimation"
   ]
  },
  {
   "cell_type": "markdown",
   "id": "ca4bab1c-6ee6-47ae-8352-4ab5649690e8",
   "metadata": {},
   "source": [
    "This jupyter notebook is addressed for creating model that can estimate crop yield in North Dakota, United States. The detail workflow of this project can be seen in here."
   ]
  },
  {
   "cell_type": "markdown",
   "id": "2296c5b4-0995-43c7-8d70-ab3b37f67d98",
   "metadata": {},
   "source": [
    "## 0. Install & Load Packages"
   ]
  },
  {
   "cell_type": "code",
   "execution_count": 1,
   "id": "0ed9a483-7e87-4d96-97d8-dce0579d6b48",
   "metadata": {},
   "outputs": [
    {
     "name": "stdout",
     "output_type": "stream",
     "text": [
      "Collecting tensorflow\n",
      "  Downloading tensorflow-2.16.1-cp311-cp311-manylinux_2_17_x86_64.manylinux2014_x86_64.whl.metadata (4.3 kB)\n",
      "Collecting absl-py>=1.0.0 (from tensorflow)\n",
      "  Downloading absl_py-2.1.0-py3-none-any.whl.metadata (2.3 kB)\n",
      "Collecting astunparse>=1.6.0 (from tensorflow)\n",
      "  Downloading astunparse-1.6.3-py2.py3-none-any.whl.metadata (4.4 kB)\n",
      "Collecting flatbuffers>=23.5.26 (from tensorflow)\n",
      "  Downloading flatbuffers-24.3.7-py2.py3-none-any.whl.metadata (849 bytes)\n",
      "Collecting gast!=0.5.0,!=0.5.1,!=0.5.2,>=0.2.1 (from tensorflow)\n",
      "  Downloading gast-0.5.4-py3-none-any.whl.metadata (1.3 kB)\n",
      "Collecting google-pasta>=0.1.1 (from tensorflow)\n",
      "  Downloading google_pasta-0.2.0-py3-none-any.whl.metadata (814 bytes)\n",
      "Collecting h5py>=3.10.0 (from tensorflow)\n",
      "  Downloading h5py-3.10.0-cp311-cp311-manylinux_2_17_x86_64.manylinux2014_x86_64.whl.metadata (2.5 kB)\n",
      "Collecting libclang>=13.0.0 (from tensorflow)\n",
      "  Downloading libclang-18.1.1-py2.py3-none-manylinux2010_x86_64.whl.metadata (5.2 kB)\n",
      "Collecting ml-dtypes~=0.3.1 (from tensorflow)\n",
      "  Downloading ml_dtypes-0.3.2-cp311-cp311-manylinux_2_17_x86_64.manylinux2014_x86_64.whl.metadata (20 kB)\n",
      "Collecting opt-einsum>=2.3.2 (from tensorflow)\n",
      "  Downloading opt_einsum-3.3.0-py3-none-any.whl.metadata (6.5 kB)\n",
      "Requirement already satisfied: packaging in /opt/conda/lib/python3.11/site-packages (from tensorflow) (23.1)\n",
      "Requirement already satisfied: protobuf!=4.21.0,!=4.21.1,!=4.21.2,!=4.21.3,!=4.21.4,!=4.21.5,<5.0.0dev,>=3.20.3 in /opt/conda/lib/python3.11/site-packages (from tensorflow) (4.23.3)\n",
      "Requirement already satisfied: requests<3,>=2.21.0 in /opt/conda/lib/python3.11/site-packages (from tensorflow) (2.31.0)\n",
      "Requirement already satisfied: setuptools in /opt/conda/lib/python3.11/site-packages (from tensorflow) (68.1.2)\n",
      "Requirement already satisfied: six>=1.12.0 in /opt/conda/lib/python3.11/site-packages (from tensorflow) (1.16.0)\n",
      "Collecting termcolor>=1.1.0 (from tensorflow)\n",
      "  Downloading termcolor-2.4.0-py3-none-any.whl.metadata (6.1 kB)\n",
      "Requirement already satisfied: typing-extensions>=3.6.6 in /opt/conda/lib/python3.11/site-packages (from tensorflow) (4.7.1)\n",
      "Collecting wrapt>=1.11.0 (from tensorflow)\n",
      "  Downloading wrapt-1.16.0-cp311-cp311-manylinux_2_5_x86_64.manylinux1_x86_64.manylinux_2_17_x86_64.manylinux2014_x86_64.whl.metadata (6.6 kB)\n",
      "Collecting grpcio<2.0,>=1.24.3 (from tensorflow)\n",
      "  Downloading grpcio-1.62.1-cp311-cp311-manylinux_2_17_x86_64.manylinux2014_x86_64.whl.metadata (4.0 kB)\n",
      "Collecting tensorboard<2.17,>=2.16 (from tensorflow)\n",
      "  Downloading tensorboard-2.16.2-py3-none-any.whl.metadata (1.6 kB)\n",
      "Collecting keras>=3.0.0 (from tensorflow)\n",
      "  Downloading keras-3.1.1-py3-none-any.whl.metadata (5.6 kB)\n",
      "Collecting tensorflow-io-gcs-filesystem>=0.23.1 (from tensorflow)\n",
      "  Downloading tensorflow_io_gcs_filesystem-0.36.0-cp311-cp311-manylinux_2_17_x86_64.manylinux2014_x86_64.whl.metadata (14 kB)\n",
      "Requirement already satisfied: numpy<2.0.0,>=1.23.5 in /opt/conda/lib/python3.11/site-packages (from tensorflow) (1.24.4)\n",
      "Requirement already satisfied: wheel<1.0,>=0.23.0 in /opt/conda/lib/python3.11/site-packages (from astunparse>=1.6.0->tensorflow) (0.41.2)\n",
      "Requirement already satisfied: rich in /opt/conda/lib/python3.11/site-packages (from keras>=3.0.0->tensorflow) (13.6.0)\n",
      "Collecting namex (from keras>=3.0.0->tensorflow)\n",
      "  Downloading namex-0.0.7-py3-none-any.whl.metadata (246 bytes)\n",
      "Collecting optree (from keras>=3.0.0->tensorflow)\n",
      "  Downloading optree-0.10.0-cp311-cp311-manylinux_2_17_x86_64.manylinux2014_x86_64.whl.metadata (45 kB)\n",
      "\u001b[2K     \u001b[90m━━━━━━━━━━━━━━━━━━━━━━━━━━━━━━━━━━━━━━━━\u001b[0m \u001b[32m45.3/45.3 kB\u001b[0m \u001b[31m2.2 MB/s\u001b[0m eta \u001b[36m0:00:00\u001b[0m\n",
      "\u001b[?25hRequirement already satisfied: charset-normalizer<4,>=2 in /opt/conda/lib/python3.11/site-packages (from requests<3,>=2.21.0->tensorflow) (3.2.0)\n",
      "Requirement already satisfied: idna<4,>=2.5 in /opt/conda/lib/python3.11/site-packages (from requests<3,>=2.21.0->tensorflow) (3.4)\n",
      "Requirement already satisfied: urllib3<3,>=1.21.1 in /opt/conda/lib/python3.11/site-packages (from requests<3,>=2.21.0->tensorflow) (2.0.4)\n",
      "Requirement already satisfied: certifi>=2017.4.17 in /opt/conda/lib/python3.11/site-packages (from requests<3,>=2.21.0->tensorflow) (2023.7.22)\n",
      "Collecting markdown>=2.6.8 (from tensorboard<2.17,>=2.16->tensorflow)\n",
      "  Downloading Markdown-3.6-py3-none-any.whl.metadata (7.0 kB)\n",
      "Collecting tensorboard-data-server<0.8.0,>=0.7.0 (from tensorboard<2.17,>=2.16->tensorflow)\n",
      "  Downloading tensorboard_data_server-0.7.2-py3-none-manylinux_2_31_x86_64.whl.metadata (1.1 kB)\n",
      "Collecting werkzeug>=1.0.1 (from tensorboard<2.17,>=2.16->tensorflow)\n",
      "  Downloading werkzeug-3.0.1-py3-none-any.whl.metadata (4.1 kB)\n",
      "Requirement already satisfied: MarkupSafe>=2.1.1 in /opt/conda/lib/python3.11/site-packages (from werkzeug>=1.0.1->tensorboard<2.17,>=2.16->tensorflow) (2.1.3)\n",
      "Requirement already satisfied: markdown-it-py>=2.2.0 in /opt/conda/lib/python3.11/site-packages (from rich->keras>=3.0.0->tensorflow) (3.0.0)\n",
      "Requirement already satisfied: pygments<3.0.0,>=2.13.0 in /opt/conda/lib/python3.11/site-packages (from rich->keras>=3.0.0->tensorflow) (2.16.1)\n",
      "Requirement already satisfied: mdurl~=0.1 in /opt/conda/lib/python3.11/site-packages (from markdown-it-py>=2.2.0->rich->keras>=3.0.0->tensorflow) (0.1.0)\n",
      "Downloading tensorflow-2.16.1-cp311-cp311-manylinux_2_17_x86_64.manylinux2014_x86_64.whl (589.8 MB)\n",
      "\u001b[2K   \u001b[90m━━━━━━━━━━━━━━━━━━━━━━━━━━━━━━━━━━━━━━━━\u001b[0m \u001b[32m589.8/589.8 MB\u001b[0m \u001b[31m4.3 MB/s\u001b[0m eta \u001b[36m0:00:00\u001b[0m00:01\u001b[0m00:02\u001b[0m\n",
      "\u001b[?25hDownloading absl_py-2.1.0-py3-none-any.whl (133 kB)\n",
      "\u001b[2K   \u001b[90m━━━━━━━━━━━━━━━━━━━━━━━━━━━━━━━━━━━━━━━━\u001b[0m \u001b[32m133.7/133.7 kB\u001b[0m \u001b[31m4.2 MB/s\u001b[0m eta \u001b[36m0:00:00\u001b[0m\n",
      "\u001b[?25hDownloading astunparse-1.6.3-py2.py3-none-any.whl (12 kB)\n",
      "Downloading flatbuffers-24.3.7-py2.py3-none-any.whl (26 kB)\n",
      "Downloading gast-0.5.4-py3-none-any.whl (19 kB)\n",
      "Downloading google_pasta-0.2.0-py3-none-any.whl (57 kB)\n",
      "\u001b[2K   \u001b[90m━━━━━━━━━━━━━━━━━━━━━━━━━━━━━━━━━━━━━━━━\u001b[0m \u001b[32m57.5/57.5 kB\u001b[0m \u001b[31m3.9 MB/s\u001b[0m eta \u001b[36m0:00:00\u001b[0m\n",
      "\u001b[?25hDownloading grpcio-1.62.1-cp311-cp311-manylinux_2_17_x86_64.manylinux2014_x86_64.whl (5.5 MB)\n",
      "\u001b[2K   \u001b[90m━━━━━━━━━━━━━━━━━━━━━━━━━━━━━━━━━━━━━━━━\u001b[0m \u001b[32m5.5/5.5 MB\u001b[0m \u001b[31m8.8 MB/s\u001b[0m eta \u001b[36m0:00:00\u001b[0m00:01\u001b[0m00:01\u001b[0mm\n",
      "\u001b[?25hDownloading h5py-3.10.0-cp311-cp311-manylinux_2_17_x86_64.manylinux2014_x86_64.whl (4.8 MB)\n",
      "\u001b[2K   \u001b[90m━━━━━━━━━━━━━━━━━━━━━━━━━━━━━━━━━━━━━━━━\u001b[0m \u001b[32m4.8/4.8 MB\u001b[0m \u001b[31m8.6 MB/s\u001b[0m eta \u001b[36m0:00:00\u001b[0m00:01\u001b[0m00:01\u001b[0mm\n",
      "\u001b[?25hDownloading keras-3.1.1-py3-none-any.whl (1.1 MB)\n",
      "\u001b[2K   \u001b[90m━━━━━━━━━━━━━━━━━━━━━━━━━━━━━━━━━━━━━━━━\u001b[0m \u001b[32m1.1/1.1 MB\u001b[0m \u001b[31m7.5 MB/s\u001b[0m eta \u001b[36m0:00:00\u001b[0ma \u001b[36m0:00:01\u001b[0m\n",
      "\u001b[?25hDownloading libclang-18.1.1-py2.py3-none-manylinux2010_x86_64.whl (24.5 MB)\n",
      "\u001b[2K   \u001b[90m━━━━━━━━━━━━━━━━━━━━━━━━━━━━━━━━━━━━━━━━\u001b[0m \u001b[32m24.5/24.5 MB\u001b[0m \u001b[31m8.0 MB/s\u001b[0m eta \u001b[36m0:00:00\u001b[0m00:01\u001b[0m00:01\u001b[0m\n",
      "\u001b[?25hDownloading ml_dtypes-0.3.2-cp311-cp311-manylinux_2_17_x86_64.manylinux2014_x86_64.whl (2.2 MB)\n",
      "\u001b[2K   \u001b[90m━━━━━━━━━━━━━━━━━━━━━━━━━━━━━━━━━━━━━━━━\u001b[0m \u001b[32m2.2/2.2 MB\u001b[0m \u001b[31m9.3 MB/s\u001b[0m eta \u001b[36m0:00:00\u001b[0m:00:01\u001b[0m00:01\u001b[0m\n",
      "\u001b[?25hDownloading opt_einsum-3.3.0-py3-none-any.whl (65 kB)\n",
      "\u001b[2K   \u001b[90m━━━━━━━━━━━━━━━━━━━━━━━━━━━━━━━━━━━━━━━━\u001b[0m \u001b[32m65.5/65.5 kB\u001b[0m \u001b[31m4.8 MB/s\u001b[0m eta \u001b[36m0:00:00\u001b[0m\n",
      "\u001b[?25hDownloading tensorboard-2.16.2-py3-none-any.whl (5.5 MB)\n",
      "\u001b[2K   \u001b[90m━━━━━━━━━━━━━━━━━━━━━━━━━━━━━━━━━━━━━━━━\u001b[0m \u001b[32m5.5/5.5 MB\u001b[0m \u001b[31m7.3 MB/s\u001b[0m eta \u001b[36m0:00:00\u001b[0m00:01\u001b[0m00:01\u001b[0m\n",
      "\u001b[?25hDownloading tensorflow_io_gcs_filesystem-0.36.0-cp311-cp311-manylinux_2_17_x86_64.manylinux2014_x86_64.whl (5.1 MB)\n",
      "\u001b[2K   \u001b[90m━━━━━━━━━━━━━━━━━━━━━━━━━━━━━━━━━━━━━━━━\u001b[0m \u001b[32m5.1/5.1 MB\u001b[0m \u001b[31m5.7 MB/s\u001b[0m eta \u001b[36m0:00:00\u001b[0ma \u001b[36m0:00:01\u001b[0mm\n",
      "\u001b[?25hDownloading termcolor-2.4.0-py3-none-any.whl (7.7 kB)\n",
      "Downloading wrapt-1.16.0-cp311-cp311-manylinux_2_5_x86_64.manylinux1_x86_64.manylinux_2_17_x86_64.manylinux2014_x86_64.whl (80 kB)\n",
      "\u001b[2K   \u001b[90m━━━━━━━━━━━━━━━━━━━━━━━━━━━━━━━━━━━━━━━━\u001b[0m \u001b[32m80.7/80.7 kB\u001b[0m \u001b[31m3.1 MB/s\u001b[0m eta \u001b[36m0:00:00\u001b[0m\n",
      "\u001b[?25hDownloading Markdown-3.6-py3-none-any.whl (105 kB)\n",
      "\u001b[2K   \u001b[90m━━━━━━━━━━━━━━━━━━━━━━━━━━━━━━━━━━━━━━━━\u001b[0m \u001b[32m105.4/105.4 kB\u001b[0m \u001b[31m4.8 MB/s\u001b[0m eta \u001b[36m0:00:00\u001b[0m\n",
      "\u001b[?25hDownloading tensorboard_data_server-0.7.2-py3-none-manylinux_2_31_x86_64.whl (6.6 MB)\n",
      "\u001b[2K   \u001b[90m━━━━━━━━━━━━━━━━━━━━━━━━━━━━━━━━━━━━━━━━\u001b[0m \u001b[32m6.6/6.6 MB\u001b[0m \u001b[31m6.3 MB/s\u001b[0m eta \u001b[36m0:00:00\u001b[0m00:01\u001b[0m00:01\u001b[0m\n",
      "\u001b[?25hDownloading werkzeug-3.0.1-py3-none-any.whl (226 kB)\n",
      "\u001b[2K   \u001b[90m━━━━━━━━━━━━━━━━━━━━━━━━━━━━━━━━━━━━━━━━\u001b[0m \u001b[32m226.7/226.7 kB\u001b[0m \u001b[31m8.0 MB/s\u001b[0m eta \u001b[36m0:00:00\u001b[0m\n",
      "\u001b[?25hDownloading namex-0.0.7-py3-none-any.whl (5.8 kB)\n",
      "Downloading optree-0.10.0-cp311-cp311-manylinux_2_17_x86_64.manylinux2014_x86_64.whl (287 kB)\n",
      "\u001b[2K   \u001b[90m━━━━━━━━━━━━━━━━━━━━━━━━━━━━━━━━━━━━━━━━\u001b[0m \u001b[32m287.1/287.1 kB\u001b[0m \u001b[31m5.6 MB/s\u001b[0m eta \u001b[36m0:00:00\u001b[0mta \u001b[36m0:00:01\u001b[0m\n",
      "\u001b[?25hInstalling collected packages: namex, libclang, flatbuffers, wrapt, werkzeug, termcolor, tensorflow-io-gcs-filesystem, tensorboard-data-server, optree, opt-einsum, ml-dtypes, markdown, h5py, grpcio, google-pasta, gast, astunparse, absl-py, tensorboard, keras, tensorflow\n",
      "  Attempting uninstall: h5py\n",
      "    Found existing installation: h5py 3.9.0\n",
      "    Uninstalling h5py-3.9.0:\n",
      "      Successfully uninstalled h5py-3.9.0\n",
      "Successfully installed absl-py-2.1.0 astunparse-1.6.3 flatbuffers-24.3.7 gast-0.5.4 google-pasta-0.2.0 grpcio-1.62.1 h5py-3.10.0 keras-3.1.1 libclang-18.1.1 markdown-3.6 ml-dtypes-0.3.2 namex-0.0.7 opt-einsum-3.3.0 optree-0.10.0 tensorboard-2.16.2 tensorboard-data-server-0.7.2 tensorflow-2.16.1 tensorflow-io-gcs-filesystem-0.36.0 termcolor-2.4.0 werkzeug-3.0.1 wrapt-1.16.0\n"
     ]
    }
   ],
   "source": [
    "#install packages\n",
    "!pip install tensorflow"
   ]
  },
  {
   "cell_type": "code",
   "execution_count": 7,
   "id": "f291c9b9-893a-4d60-889a-03c623b813ff",
   "metadata": {},
   "outputs": [],
   "source": [
    "#load packages\n",
    "\n",
    "#packages for manipulating dataframe\n",
    "import numpy as np\n",
    "import pandas as pd\n",
    "import geopandas as gpd\n",
    "from shapely.geometry import Point\n",
    "\n",
    "#packages for machine learning\n",
    "##train-test-split\n",
    "from sklearn.model_selection import train_test_split\n",
    "\n",
    "##method 1: Linear Regression (LR)\n",
    "\n",
    "##method 2: Random Forest Regressor (RF)\n",
    "\n",
    "##method 3: Gradient Boosting Regressor (XGB)\n",
    "\n",
    "##method 4: Artificial Neural Network (ANN)\n",
    "import tensorflow as tf\n",
    "from tensorflow import keras\n",
    "from tensorflow.keras import layers\n",
    "\n",
    "##cross validation\n",
    "\n",
    "##evaluation metrics (R2 and RMSE)\n",
    "from sklearn.metrics import r2_score, mean_squared_error\n",
    "\n",
    "#data visualization\n",
    "import matplotlib.pyplot as plt"
   ]
  },
  {
   "cell_type": "markdown",
   "id": "8057ad41-fef0-4b06-a39b-df102fda6a43",
   "metadata": {},
   "source": [
    "## 1. Load & Cleaning Data"
   ]
  },
  {
   "cell_type": "code",
   "execution_count": 3,
   "id": "f4ae487f-4770-4419-94a1-8bd592fe6bef",
   "metadata": {},
   "outputs": [],
   "source": [
    "#load data\n",
    "car_price = pd.read_csv('data/car_prices.csv')\n",
    "car_price = car_price[['mmr','sellingprice']] #select variables\n",
    "car_price = car_price.dropna() #remove na"
   ]
  },
  {
   "cell_type": "markdown",
   "id": "5f14e42e-6cb8-4456-9f1a-053c28dd387b",
   "metadata": {},
   "source": [
    "## 2. Train & Test Data Split"
   ]
  },
  {
   "cell_type": "code",
   "execution_count": 4,
   "id": "765d6567-bcfa-4531-969b-26cbad93856b",
   "metadata": {},
   "outputs": [],
   "source": [
    "#split the dataset\n",
    "X = car_price.drop('sellingprice', axis=1)\n",
    "y = car_price['sellingprice']\n",
    "\n",
    "X_train, X_test, y_train, y_test = train_test_split(X, y, test_size=0.2, random_state=42)"
   ]
  },
  {
   "cell_type": "markdown",
   "id": "80c72d11-ac6c-42b2-aa42-5e2811d1f9db",
   "metadata": {},
   "source": [
    "## 3. Model Training and Parameter Tuning"
   ]
  },
  {
   "cell_type": "markdown",
   "id": "49aeb204-e10e-412f-a699-209c8c781591",
   "metadata": {},
   "source": [
    "### 3.1. Linear Regression (LR)"
   ]
  },
  {
   "cell_type": "code",
   "execution_count": null,
   "id": "c990d8d1-6899-4b44-9bce-7524102944ce",
   "metadata": {},
   "outputs": [],
   "source": [
    "model_lr ="
   ]
  },
  {
   "cell_type": "markdown",
   "id": "21c5e2ca-637a-474c-a9c6-3e602594cbd0",
   "metadata": {},
   "source": [
    "### 3.2. Random Forest Regressor (RF)"
   ]
  },
  {
   "cell_type": "code",
   "execution_count": null,
   "id": "b86cc258-f389-4b8b-bf65-83fa44eceed0",
   "metadata": {},
   "outputs": [],
   "source": [
    "model_rf ="
   ]
  },
  {
   "cell_type": "markdown",
   "id": "14f8ace6-4d08-42ae-8c46-8b4be6caf95e",
   "metadata": {},
   "source": [
    "### 3.3. Gradient Boosting Regressor (XGB)"
   ]
  },
  {
   "cell_type": "code",
   "execution_count": null,
   "id": "f3c232cb-de46-454e-bedc-5cbabd5234e4",
   "metadata": {},
   "outputs": [],
   "source": [
    "model_xgb ="
   ]
  },
  {
   "cell_type": "markdown",
   "id": "24ed003c-d187-4e75-b5b0-b19650825197",
   "metadata": {},
   "source": [
    "### 3.4. Artificial Neural Network (ANN)"
   ]
  },
  {
   "cell_type": "code",
   "execution_count": 5,
   "id": "cc015443-3613-4d20-a879-3ec3a0467331",
   "metadata": {},
   "outputs": [],
   "source": [
    "#create ANN model\n",
    "model_ann = keras.Sequential([\n",
    "    layers.Input(shape=(1,)), #input layer (number of features)\n",
    "    layers.Dense(128, activation='relu'), #hidden layer with 128 neurons and ReLU activation\n",
    "    layers.Dropout(0.2), #regularization to avoid overfitting\n",
    "    layers.Dense(1) #output layer with a single neuron (dense for regression)\n",
    "])\n",
    "\n",
    "#measuring the training with certain metrics\n",
    "model_ann.compile(optimizer='adam', loss='mean_squared_error', metrics=['accuracy'])"
   ]
  },
  {
   "cell_type": "code",
   "execution_count": 6,
   "id": "7abd2af1-0d33-4f8f-bacc-ab4441338a07",
   "metadata": {},
   "outputs": [
    {
     "name": "stdout",
     "output_type": "stream",
     "text": [
      "Epoch 1/5\n",
      "\u001b[1m13970/13970\u001b[0m \u001b[32m━━━━━━━━━━━━━━━━━━━━\u001b[0m\u001b[37m\u001b[0m \u001b[1m44s\u001b[0m 3ms/step - accuracy: 1.1095e-05 - loss: 7571436.5000 - val_accuracy: 0.0000e+00 - val_loss: 3348754.5000\n",
      "Epoch 2/5\n",
      "\u001b[1m13970/13970\u001b[0m \u001b[32m━━━━━━━━━━━━━━━━━━━━\u001b[0m\u001b[37m\u001b[0m \u001b[1m43s\u001b[0m 3ms/step - accuracy: 1.8117e-05 - loss: 4599186.5000 - val_accuracy: 0.0000e+00 - val_loss: 3583822.2500\n",
      "Epoch 3/5\n",
      "\u001b[1m13970/13970\u001b[0m \u001b[32m━━━━━━━━━━━━━━━━━━━━\u001b[0m\u001b[37m\u001b[0m \u001b[1m43s\u001b[0m 3ms/step - accuracy: 2.0510e-05 - loss: 4585763.0000 - val_accuracy: 0.0000e+00 - val_loss: 3349361.7500\n",
      "Epoch 4/5\n",
      "\u001b[1m13970/13970\u001b[0m \u001b[32m━━━━━━━━━━━━━━━━━━━━\u001b[0m\u001b[37m\u001b[0m \u001b[1m45s\u001b[0m 3ms/step - accuracy: 2.9876e-06 - loss: 4585347.5000 - val_accuracy: 0.0000e+00 - val_loss: 3463856.2500\n",
      "Epoch 5/5\n",
      "\u001b[1m13970/13970\u001b[0m \u001b[32m━━━━━━━━━━━━━━━━━━━━\u001b[0m\u001b[37m\u001b[0m \u001b[1m44s\u001b[0m 3ms/step - accuracy: 9.2020e-06 - loss: 4659814.5000 - val_accuracy: 0.0000e+00 - val_loss: 3390493.2500\n"
     ]
    },
    {
     "data": {
      "text/plain": [
       "<keras.src.callbacks.history.History at 0x7f4644c83590>"
      ]
     },
     "execution_count": 6,
     "metadata": {},
     "output_type": "execute_result"
    }
   ],
   "source": [
    "#train the model\n",
    "model_ann.fit(X_train, y_train, epochs=5, validation_data=(X_test, y_test))"
   ]
  },
  {
   "cell_type": "markdown",
   "id": "bba8323e-7e85-4a6e-aaf6-90491aaa1325",
   "metadata": {},
   "source": [
    "## 4. Model Evaluation and Performance Comparison"
   ]
  },
  {
   "cell_type": "markdown",
   "id": "d9c7f423-96eb-45b2-b941-f6f9eafce105",
   "metadata": {},
   "source": [
    "Comparing the performance with using R2 and Root Mean Squared Error (RMSE)."
   ]
  },
  {
   "cell_type": "markdown",
   "id": "4574503f-6211-4796-993d-0344981dfaa3",
   "metadata": {},
   "source": [
    "### 4.1. E. Linear Regression (LR)"
   ]
  },
  {
   "cell_type": "code",
   "execution_count": null,
   "id": "93217b1d-1df0-4430-a461-574cc608adae",
   "metadata": {},
   "outputs": [],
   "source": []
  },
  {
   "cell_type": "markdown",
   "id": "79c518cc-bd17-4cff-9bdb-fa63a0c872c4",
   "metadata": {},
   "source": [
    "### 4.2. E. Random Forest Regressor (RF)"
   ]
  },
  {
   "cell_type": "code",
   "execution_count": null,
   "id": "95c4e27c-f683-40cd-9f1d-e29750eab885",
   "metadata": {},
   "outputs": [],
   "source": []
  },
  {
   "cell_type": "markdown",
   "id": "3aae0752-c935-403f-9c7c-e371d95d4672",
   "metadata": {},
   "source": [
    "### 4.3. E. Gradient Boosting Regressor (XGB)"
   ]
  },
  {
   "cell_type": "code",
   "execution_count": null,
   "id": "badc2142-44df-40cf-bc4c-5c10cdd338eb",
   "metadata": {},
   "outputs": [],
   "source": []
  },
  {
   "cell_type": "markdown",
   "id": "2a44c643-4844-4aa2-8b46-19e15d2b3f63",
   "metadata": {},
   "source": [
    "### 4.4. E. Artificial Neural Network (ANN)"
   ]
  },
  {
   "cell_type": "code",
   "execution_count": 19,
   "id": "a1f9784a-2d9b-4ba9-abfd-9e7f6a5157ea",
   "metadata": {},
   "outputs": [
    {
     "name": "stdout",
     "output_type": "stream",
     "text": [
      "\u001b[1m13970/13970\u001b[0m \u001b[32m━━━━━━━━━━━━━━━━━━━━\u001b[0m\u001b[37m\u001b[0m \u001b[1m25s\u001b[0m 2ms/step\n",
      "\u001b[1m3493/3493\u001b[0m \u001b[32m━━━━━━━━━━━━━━━━━━━━\u001b[0m\u001b[37m\u001b[0m \u001b[1m6s\u001b[0m 2ms/step\n",
      "Train R2: 0.97\n",
      "Test R2: 0.96\n",
      "Train RMSE: 1749.48\n",
      "Test RMSE: 1841.41\n"
     ]
    }
   ],
   "source": [
    "#predictions\n",
    "y_pred_train_ann = model_ann.predict(X_train).flatten()\n",
    "y_pred_test_ann = model_ann.predict(X_test).flatten()\n",
    "\n",
    "#Compute R2 and RMSE\n",
    "r2_train_ann = np.round(r2_score(y_train, y_pred_train_ann),2)\n",
    "r2_test_ann = np.round(r2_score(y_test, y_pred_test_ann),2)\n",
    "rmse_train_ann = np.round(np.sqrt(mean_squared_error(y_train, y_pred_train_ann)),2)\n",
    "rmse_test_ann = np.round(np.sqrt(mean_squared_error(y_test, y_pred_test_ann)),2)\n",
    "\n",
    "#print the result\n",
    "print(\"Train R2:\", r2_train_ann)\n",
    "print(\"Test R2:\", r2_test_ann)\n",
    "print(\"Train RMSE:\", rmse_train_ann)\n",
    "print(\"Test RMSE:\", rmse_test_ann)"
   ]
  },
  {
   "cell_type": "code",
   "execution_count": 36,
   "id": "b8c8b24e-d1e7-43c0-a324-4e3b3d56aacc",
   "metadata": {},
   "outputs": [
    {
     "data": {
      "image/png": "[encoded data removed]",
      "text/plain": [
       "<Figure size 640x480 with 1 Axes>"
      ]
     },
     "metadata": {},
     "output_type": "display_data"
    }
   ],
   "source": [
    "#crosscheck the y value between real and predicted\n",
    "crosscheck_y_dict = {\n",
    "    'y_test' : y_test,\n",
    "    'y_pred' : np.round(y_pred_test_ann,0),\n",
    "    'delta' : np.abs(np.round((y_test - y_pred_test_ann),0))\n",
    "}\n",
    "\n",
    "#plotting histogram\n",
    "crosscheck_y_df = pd.DataFrame(crosscheck_y_dict)\n",
    "plt.hist(crosscheck_y_df['delta'], bins=200)\n",
    "plt.xlabel('Delta')\n",
    "plt.ylabel('Frequency (Number of Data)')\n",
    "plt.title(f\"Accuracy of ANN Model Based on Delta of Y Test and Y Pred (R2 = {r2_test_ann})\")\n",
    "plt.xlim(0, 50000)\n",
    "plt.show()"
   ]
  },
  {
   "cell_type": "markdown",
   "id": "f30269a6-3941-4d29-ad62-f0e8d8957b97",
   "metadata": {},
   "source": [
    "### 4.5. Model Performance Comparison"
   ]
  },
  {
   "cell_type": "code",
   "execution_count": 20,
   "id": "138bc492-857b-4cfc-95f5-c7758415d45d",
   "metadata": {},
   "outputs": [
    {
     "data": {
      "text/html": [
       "<div>\n",
       "<style scoped>\n",
       "    .dataframe tbody tr th:only-of-type {\n",
       "        vertical-align: middle;\n",
       "    }\n",
       "\n",
       "    .dataframe tbody tr th {\n",
       "        vertical-align: top;\n",
       "    }\n",
       "\n",
       "    .dataframe thead th {\n",
       "        text-align: right;\n",
       "    }\n",
       "</style>\n",
       "<table border=\"1\" class=\"dataframe\">\n",
       "  <thead>\n",
       "    <tr style=\"text-align: right;\">\n",
       "      <th></th>\n",
       "      <th>LR</th>\n",
       "      <th>RF</th>\n",
       "      <th>XGB</th>\n",
       "      <th>ANN</th>\n",
       "    </tr>\n",
       "    <tr>\n",
       "      <th>metrics</th>\n",
       "      <th></th>\n",
       "      <th></th>\n",
       "      <th></th>\n",
       "      <th></th>\n",
       "    </tr>\n",
       "  </thead>\n",
       "  <tbody>\n",
       "    <tr>\n",
       "      <th>Train R2</th>\n",
       "      <td>Train R2</td>\n",
       "      <td>Train R2</td>\n",
       "      <td>Train R2</td>\n",
       "      <td>0.97</td>\n",
       "    </tr>\n",
       "    <tr>\n",
       "      <th>Test R2</th>\n",
       "      <td>Test R2</td>\n",
       "      <td>Test R2</td>\n",
       "      <td>Test R2</td>\n",
       "      <td>0.96</td>\n",
       "    </tr>\n",
       "    <tr>\n",
       "      <th>Train RMSE</th>\n",
       "      <td>Train RMSE</td>\n",
       "      <td>Train RMSE</td>\n",
       "      <td>Train RMSE</td>\n",
       "      <td>1749.48</td>\n",
       "    </tr>\n",
       "    <tr>\n",
       "      <th>Test RMSE</th>\n",
       "      <td>Test RMSE</td>\n",
       "      <td>Test RMSE</td>\n",
       "      <td>Test RMSE</td>\n",
       "      <td>1841.41</td>\n",
       "    </tr>\n",
       "  </tbody>\n",
       "</table>\n",
       "</div>"
      ],
      "text/plain": [
       "                    LR          RF         XGB      ANN\n",
       "metrics                                                \n",
       "Train R2      Train R2    Train R2    Train R2     0.97\n",
       "Test R2        Test R2     Test R2     Test R2     0.96\n",
       "Train RMSE  Train RMSE  Train RMSE  Train RMSE  1749.48\n",
       "Test RMSE    Test RMSE   Test RMSE   Test RMSE  1841.41"
      ]
     },
     "execution_count": 20,
     "metadata": {},
     "output_type": "execute_result"
    }
   ],
   "source": [
    "#please input your metrics in here\n",
    "metrics_dict = {\n",
    "    'metrics': [\"Train R2\",\"Test R2\",\"Train RMSE\",\"Test RMSE\"],\n",
    "    'LR': [\"Train R2\",\"Test R2\",\"Train RMSE\",\"Test RMSE\"],\n",
    "    'RF': [\"Train R2\",\"Test R2\",\"Train RMSE\",\"Test RMSE\"],\n",
    "    'XGB': [\"Train R2\",\"Test R2\",\"Train RMSE\",\"Test RMSE\"],\n",
    "    'ANN': [r2_train_ann, r2_test_ann, rmse_train_ann, rmse_test_ann]\n",
    "}\n",
    "\n",
    "#create dataframe\n",
    "metrics_df = pd.DataFrame(metrics_dict)\n",
    "metrics_df.set_index('metrics')"
   ]
  },
  {
   "cell_type": "markdown",
   "id": "ce937232-5aa5-47fb-ba95-79eb82cefff6",
   "metadata": {},
   "source": [
    "Based on the comparison, it can be said that the best model that can be used for estimating crop yield is []. From this point, [] model would be used for estimation phase (step 5)."
   ]
  },
  {
   "cell_type": "markdown",
   "id": "4f47dec9-a587-4e57-b4a6-d1a5493a6cb5",
   "metadata": {},
   "source": [
    "## 5. Crop Yield Estimation and Export Result"
   ]
  },
  {
   "cell_type": "code",
   "execution_count": null,
   "id": "c00bb9b8-8362-4eb5-bf55-67e1143b2dec",
   "metadata": {},
   "outputs": [],
   "source": []
  }
 ],
 "metadata": {
  "kernelspec": {
   "display_name": "Python 3 (ipykernel)",
   "language": "python",
   "name": "python3"
  },
  "language_info": {
   "codemirror_mode": {
    "name": "ipython",
    "version": 3
   },
   "file_extension": ".py",
   "mimetype": "text/x-python",
   "name": "python",
   "nbconvert_exporter": "python",
   "pygments_lexer": "ipython3",
   "version": "3.11.5"
  }
 },
 "nbformat": 4,
 "nbformat_minor": 5
}
